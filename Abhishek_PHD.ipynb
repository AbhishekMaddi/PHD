{
 "cells": [
  {
   "cell_type": "markdown",
   "metadata": {
    "colab_type": "text",
    "id": "b6cruzIMKtBH"
   },
   "source": [
    "# ALL LIBRARY IMPORTS USED"
   ]
  },
  {
   "cell_type": "code",
   "execution_count": 1,
   "metadata": {
    "colab": {
     "base_uri": "https://localhost:8080/",
     "height": 50
    },
    "colab_type": "code",
    "id": "jRmtJwB_KnD9",
    "outputId": "0f757c60-1cee-4d12-ed17-9cef4663e1bd"
   },
   "outputs": [
    {
     "name": "stdout",
     "output_type": "stream",
     "text": [
      "[nltk_data] Downloading package stopwords to /root/nltk_data...\n",
      "[nltk_data]   Unzipping corpora/stopwords.zip.\n"
     ]
    }
   ],
   "source": [
    "##BASIC PREPROCESS RELATED LIBRARIES\n",
    "\n",
    "import pandas as pd\n",
    "\n",
    "import numpy as np\n",
    "\n",
    "import os\n",
    "\n",
    "import matplotlib.pyplot as plt\n",
    "\n",
    "import seaborn as sns\n",
    "\n",
    "from sklearn.model_selection import train_test_split\n",
    "\n",
    "from sklearn import preprocessing\n",
    "\n",
    "from collections import Counter\n",
    "\n",
    "import warnings\n",
    "warnings.filterwarnings('ignore')\n",
    "\n",
    "import io\n",
    "\n",
    "import random\n",
    "random.seed(123)\n",
    "\n",
    "\n",
    "##WEB SCRAPING AND REGULAR EXPRESSIONS\n",
    "\n",
    "import urllib.request as url\n",
    "\n",
    "from bs4 import BeautifulSoup as bs\n",
    "\n",
    "import re\n",
    "\n",
    "import requests\n",
    "\n",
    "##NLP LIBRARIES - NLTK USED IN BUILDING NLP PIPE LINE\n",
    "\n",
    "import nltk\n",
    "nltk.download('stopwords')\n",
    "\n",
    "from wordcloud import WordCloud, STOPWORDS, ImageColorGenerator\n",
    "\n",
    "from nltk.corpus import stopwords\n",
    "\n",
    "from nltk.tokenize import word_tokenize\n",
    "\n",
    "from nltk.stem import WordNetLemmatizer\n",
    "wordnet_lemmatizer = nltk.stem.WordNetLemmatizer()\n",
    "\n",
    "from nltk.stem.porter import PorterStemmer\n",
    "\n",
    "####### MODEL BUILDING MODULES ########\n",
    "\n",
    "## Logistic regression\n",
    "\n",
    "from sklearn.linear_model import LogisticRegression\n",
    "\n",
    "##DECISION TREE\n",
    "\n",
    "from sklearn.tree import DecisionTreeClassifier, export_graphviz, DecisionTreeRegressor\n",
    "\n",
    "##CLASSIFICATION METRICS/REGRESSION METRICS\n",
    "\n",
    "from sklearn.metrics import accuracy_score,mean_absolute_error\n",
    "\n",
    "from sklearn.metrics import precision_recall_fscore_support as score\n",
    "\n",
    "from sklearn.metrics import accuracy_score, f1_score\n",
    "\n",
    "\n",
    "##RANDOM FOREST\n",
    "\n",
    "from sklearn.ensemble import RandomForestRegressor,RandomForestClassifier\n",
    "\n",
    "#XGBOOST\n",
    "#Convert data frames to matrix to process the data(Fast convergence)\n",
    "\n",
    "import xgboost as xgb\n",
    "\n",
    "#SVM\n",
    "from sklearn.svm import SVR,SVC,LinearSVC\n",
    "\n",
    "##SEARCHES AND TUNING\n",
    "\n",
    "from sklearn.model_selection import GridSearchCV,RandomizedSearchCV\n",
    "\n",
    "#KNN\n",
    "from sklearn.neighbors import KNeighborsClassifier\n"
   ]
  },
  {
   "cell_type": "markdown",
   "metadata": {
    "colab_type": "text",
    "id": "Dk-oIUyxNbUS"
   },
   "source": [
    "# ***WEB SCRAPPING - EXTRACTING 10-K DOCUMENTS FROM US SECURITIES AND EXCHANGE COMISSION***"
   ]
  },
  {
   "cell_type": "markdown",
   "metadata": {
    "colab_type": "text",
    "id": "GaPvhuhHOdod"
   },
   "source": [
    "## ***COLLECTING EDGAR LINKS TO SCRAPE 10-K DOCUMENTS FROM TRAIN AND TEST CSV FILES PROVIDED***"
   ]
  },
  {
   "cell_type": "code",
   "execution_count": 4,
   "metadata": {
    "colab": {
     "base_uri": "https://localhost:8080/",
     "height": 74,
     "resources": {
      "http://localhost:8080/nbextensions/google.colab/files.js": {
       "data": "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",
       "headers": [
        [
         "content-type",
         "application/javascript"
        ]
       ],
       "ok": true,
       "status": 200,
       "status_text": ""
      }
     }
    },
    "colab_type": "code",
    "id": "VPDVbvuBNXtV",
    "outputId": "54f7ca4e-e064-4301-cfac-42a252be955a"
   },
   "outputs": [
    {
     "data": {
      "text/html": [
       "\n",
       "     <input type=\"file\" id=\"files-622028d3-dd8d-46de-bbda-b3258044bfce\" name=\"files[]\" multiple disabled />\n",
       "     <output id=\"result-622028d3-dd8d-46de-bbda-b3258044bfce\">\n",
       "      Upload widget is only available when the cell has been executed in the\n",
       "      current browser session. Please rerun this cell to enable.\n",
       "      </output>\n",
       "      <script src=\"/nbextensions/google.colab/files.js\"></script> "
      ],
      "text/plain": [
       "<IPython.core.display.HTML object>"
      ]
     },
     "metadata": {
      "tags": []
     },
     "output_type": "display_data"
    },
    {
     "name": "stdout",
     "output_type": "stream",
     "text": [
      "Saving 10k_filing_info_train_links-1570100710859.csv to 10k_filing_info_train_links-1570100710859.csv\n"
     ]
    }
   ],
   "source": [
    "##TRAIN CSV FILE\n",
    "\n",
    "from google.colab import files\n",
    "uploaded = files.upload()\n",
    "\n",
    "train_links = pd.read_csv(io.BytesIO(uploaded['10k_filing_info_train_links-1570100710859.csv']))"
   ]
  },
  {
   "cell_type": "code",
   "execution_count": 6,
   "metadata": {
    "colab": {
     "base_uri": "https://localhost:8080/",
     "height": 74,
     "resources": {
      "http://localhost:8080/nbextensions/google.colab/files.js": {
       "data": "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",
       "headers": [
        [
         "content-type",
         "application/javascript"
        ]
       ],
       "ok": true,
       "status": 200,
       "status_text": ""
      }
     }
    },
    "colab_type": "code",
    "id": "IbtmFeYIO1Lk",
    "outputId": "169016f7-f313-4790-afa9-0ebf09d36669"
   },
   "outputs": [
    {
     "data": {
      "text/html": [
       "\n",
       "     <input type=\"file\" id=\"files-e46dcbf5-af92-490d-9d24-0a66cfe3f45a\" name=\"files[]\" multiple disabled />\n",
       "     <output id=\"result-e46dcbf5-af92-490d-9d24-0a66cfe3f45a\">\n",
       "      Upload widget is only available when the cell has been executed in the\n",
       "      current browser session. Please rerun this cell to enable.\n",
       "      </output>\n",
       "      <script src=\"/nbextensions/google.colab/files.js\"></script> "
      ],
      "text/plain": [
       "<IPython.core.display.HTML object>"
      ]
     },
     "metadata": {
      "tags": []
     },
     "output_type": "display_data"
    },
    {
     "name": "stdout",
     "output_type": "stream",
     "text": [
      "Saving 10k_filing_info_test_links-1570843502716.csv to 10k_filing_info_test_links-1570843502716.csv\n"
     ]
    }
   ],
   "source": [
    "##TEST CSV FILE\n",
    "\n",
    "from google.colab import files\n",
    "uploaded = files.upload()\n",
    "\n",
    "test_links = pd.read_csv(io.BytesIO(uploaded['10k_filing_info_train_links-1570100710859.csv']))"
   ]
  },
  {
   "cell_type": "markdown",
   "metadata": {
    "colab_type": "text",
    "id": "QkyOavZtPjel"
   },
   "source": [
    "## **FUNCTION THAT SCRAPES 10-K DOCUMENTS FROM THE GIVEN LINK**"
   ]
  },
  {
   "cell_type": "code",
   "execution_count": 0,
   "metadata": {
    "colab": {},
    "colab_type": "code",
    "id": "SGkCUDF-PZEf"
   },
   "outputs": [],
   "source": [
    "def scrape_10k_document(link, FormType):\n",
    "    \n",
    "        \n",
    "    html = url.urlopen(link).read()\n",
    "    try:\n",
    "        soup = bs(html, 'html.parser')\n",
    "    except:\n",
    "        soup = bs(html, 'lxml')\n",
    "    \n",
    "    \n",
    "    for tag in soup.type.select('script'):\n",
    "          tag.decompose()\n",
    "    \n",
    "    for tag in soup.type.select('style'):\n",
    "          tag.decompose()\n",
    "    \n",
    "    \n",
    "    type_tags = soup.findAll(re.compile('^type'))\n",
    "  \n",
    "    for tag in type_tags:\n",
    "        text = tag.text\n",
    "        if text.startswith(FormType):\n",
    "            return text\n"
   ]
  },
  {
   "cell_type": "markdown",
   "metadata": {
    "colab_type": "text",
    "id": "KVe9HlFVP5QR"
   },
   "source": [
    "## ***FUNCTION TO CALL SCRAPING FUNCTION AND RETURNS DATAFRAME OF SCRAPED CSV LINKS***"
   ]
  },
  {
   "cell_type": "code",
   "execution_count": 0,
   "metadata": {
    "colab": {},
    "colab_type": "code",
    "id": "MoIxUTglSjdP"
   },
   "outputs": [],
   "source": [
    "def scrape_function_caller(csv_links,FormType):\n",
    "    \n",
    "    data = {'ticker':[], 'cik':[], 'filing_date':[], '10k_link':[], 'scrapped_text':[],'long_term_outlook':[]} ## DICTIONERY THAT COLLECTS DATA FROM 10-K CSV FILES\n",
    "    for rownum, row in csv_links.iterrows():\n",
    "\n",
    "\t\tprint(row['10k_link'])\n",
    "\t\tprint(rownum)\n",
    "\n",
    "\t\tticker = row['ticker']\n",
    "\t\tcik = row['cik']\n",
    "\t\tfiling_date = row['filing_date']\n",
    "\t\tDocLink = row['10k_link']\n",
    "\t\toutlook = row['long_term_outlook']\n",
    "\t\ttext_data = get10kLink(DocLink,FormType)\n",
    "\n",
    "\t\tif text_data != \"\":\n",
    "\n",
    "\n",
    "\t\t\tdata['ticker'].append(ticker)\n",
    "\t\t\tdata['cik'].append(cik)\n",
    "\t\t\tdata['filing_date'].append(filing_date)\n",
    "\t\t\tdata['10k_link'].append(DocLink)\n",
    "\t\t\tdata['description'].append(text_data)\n",
    "\t\t\tdata['long_term_outlook'].append(outlook)\n",
    "\n",
    "        elif text_data == \"\":\n",
    "\n",
    "\t\t\t\n",
    "\t\t\tdata['ticker'].append(ticker)\n",
    "\t\t\tdata['cik'].append(cik)\n",
    "\t\t\tdata['filing_date'].append(filing_date)\n",
    "\t\t\tdata['10k_link'].append(DocLink)\n",
    "\t\t\tdata['description'].append(\"TO_BE_CHECKED\")\n",
    "\t\t\tdata['long_term_outlook'].append(outlook)\n",
    "\t\t\t\n",
    "    return pd.DataFrame.from_dict(data)\n",
    "\n",
    "\n",
    "\t\t\n",
    "\t\n",
    "      "
   ]
  },
  {
   "cell_type": "markdown",
   "metadata": {
    "colab_type": "text",
    "id": "RRxEnM5JUJrB"
   },
   "source": [
    "## ***CODE BLOCK FOR CALLING SCRAPE_FUNCTION_CALLER***"
   ]
  },
  {
   "cell_type": "code",
   "execution_count": 0,
   "metadata": {
    "colab": {},
    "colab_type": "code",
    "id": "g16YOUTTUGAv"
   },
   "outputs": [],
   "source": [
    "FormType = '10-K'\n",
    "\n",
    "data_scraped = scrape_function_caller(train_links,FormType)\n",
    "test_scraped = scrape_function_caller(test_links,FormType)\n",
    "\n",
    "\n",
    "##MOUNTING THE GOOGLE DRIVE AND STORING THE SCRAPPED FILES INTO IT\n",
    "\n",
    "from google.colab import drive\n",
    "drive.mount('/content/drive')\n",
    "\n",
    "data_scraped.to_csv('data.csv')\n",
    "!cp data.csv drive/My\\ Drive/\n",
    "\n",
    "test_scraped.to_csv('test.csv')\n",
    "!cp test.csv drive/My\\ Drive/"
   ]
  },
  {
   "cell_type": "markdown",
   "metadata": {
    "colab_type": "text",
    "id": "IHzZD9fPcu6S"
   },
   "source": [
    "## ***IMPORTING CONTRACTION MAP FOR BETTER PROCESS TEXT***"
   ]
  },
  {
   "cell_type": "code",
   "execution_count": 7,
   "metadata": {
    "colab": {
     "base_uri": "https://localhost:8080/",
     "height": 74,
     "resources": {
      "http://localhost:8080/nbextensions/google.colab/files.js": {
       "data": "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",
       "headers": [
        [
         "content-type",
         "application/javascript"
        ]
       ],
       "ok": true,
       "status": 200,
       "status_text": ""
      }
     }
    },
    "colab_type": "code",
    "id": "_EQuImP4Yv-C",
    "outputId": "8f881509-b816-4bba-ba36-58dfc7f473cd"
   },
   "outputs": [
    {
     "data": {
      "text/html": [
       "\n",
       "     <input type=\"file\" id=\"files-1dd6773f-d2c3-48e8-bc3b-389e1e123660\" name=\"files[]\" multiple disabled />\n",
       "     <output id=\"result-1dd6773f-d2c3-48e8-bc3b-389e1e123660\">\n",
       "      Upload widget is only available when the cell has been executed in the\n",
       "      current browser session. Please rerun this cell to enable.\n",
       "      </output>\n",
       "      <script src=\"/nbextensions/google.colab/files.js\"></script> "
      ],
      "text/plain": [
       "<IPython.core.display.HTML object>"
      ]
     },
     "metadata": {
      "tags": []
     },
     "output_type": "display_data"
    },
    {
     "name": "stdout",
     "output_type": "stream",
     "text": [
      "Saving contractions.py to contractions.py\n"
     ]
    }
   ],
   "source": [
    "from google.colab import files\n",
    "\n",
    "src = list(files.upload().values())[0]\n",
    "open('contractions.py','wb').write(src)\n",
    "from contractions import CONTRACTION_MAP\n",
    "import unicodedata"
   ]
  },
  {
   "cell_type": "markdown",
   "metadata": {
    "colab_type": "text",
    "id": "-S13FiYNjZki"
   },
   "source": [
    "Contractions are shortened version of words or syllables. They often exist in either written or spoken forms in the English language. These shortened versions or contractions of words are created by removing specific letters and sounds. In case of English contractions, they are often created by removing one of the vowels from the word. Examples would be, do not to don’t and I would to I’d. Converting each contraction to its expanded, original form helps with text standardization.\n",
    "\n",
    "We leverage a standard set of contractions available in the contractions.py file"
   ]
  },
  {
   "cell_type": "markdown",
   "metadata": {
    "colab_type": "text",
    "id": "qbOxwVISZnqT"
   },
   "source": [
    "# ***TEXT CLEANING AND PROCESSING***"
   ]
  },
  {
   "cell_type": "markdown",
   "metadata": {
    "colab_type": "text",
    "id": "CKYjTWRPM4lP"
   },
   "source": [
    "## ***TEXT CLEANING : REMOVAL OF SCRUB WORDS,ACCENTED CHARACTERS AND EXPANDING CONTRACTIONS***"
   ]
  },
  {
   "cell_type": "code",
   "execution_count": 0,
   "metadata": {
    "colab": {},
    "colab_type": "code",
    "id": "kMIMkF2-Y-v8"
   },
   "outputs": [],
   "source": [
    "##TEXT CLEANING\n",
    "##SCRUB WORD FUNCTION REMOVES HTML MARK UPS,SPECIAL CHARACTERS,NON ASCIII CHARACTERS,NON BREAKING SPACES ETC\n",
    "\n",
    "def scrub_words(outtext):\n",
    "    # Replace \\xao characters in text -\n",
    "    # \\xa0 is actually non-breaking space in Latin1 (ISO 8859-1), also chr(160).\n",
    "    outtext = re.sub('\\xa0', ' ', outtext)\n",
    "\n",
    "    # Replace non ascii and digits\n",
    "    outtext = re.sub(\"(\\\\W|\\\\d)\", ' ', outtext)\n",
    "\n",
    "    # Replace new line characters and following text untill space\n",
    "    outtext = re.sub('\\n(\\w*?)[\\s]', '', outtext)\n",
    "\n",
    "    # Remove html markup\n",
    "    outtext = re.sub(\"<.*?>\", ' ', outtext)\n",
    "    \n",
    "    #outtext = re.sub('\\n',' ',outtext)\n",
    "    #outtext = re.sub(r'\\\\xa0',' ',outtext)\n",
    "    #outtext = re.sub(r'\\xa0',' ',outtext)\n",
    "    #outtext = re.sub(r'\\\\n',' ',outtext)\n",
    "    outtext = re.sub(r'_',' ',outtext)\n",
    "    #outtext = re.sub(r'  ',' ',outtext)\n",
    "    #outtext = re.sub('[^a-zA-z\\s]','',outtext)\n",
    "    outtext = re.sub(' +', ' ',outtext)\n",
    "    \" \".join(outtext.strip())\n",
    "\n",
    "\n",
    "    return outtext\n",
    "  \n",
    "\n",
    "##USING CONTRACTION MAP, EXPAND CONTRACTIONS FUNCTION EXTRACTS THE CONTRACTION FROM THE GIVEN WORD\n",
    "\n",
    "def expand_contractions(text, contraction_mapping=CONTRACTION_MAP):\n",
    "    # Regular Expression Objects\n",
    "    # If you want to use the same regular expression more than once,\n",
    "    # you should compile it into a regular expression object.\n",
    "    # Regular expression objects are more efficient, and make your code more readable.\n",
    "    # To create one, just call re.compile(regex) or re.compile(regex, flags).\n",
    "    # The flags are the matching options described above for the re.search() and re.match() functions.\n",
    "\n",
    "    # The regular expression object returned by re.compile() provides all the functions that\n",
    "    # the re module also provides directly: search(), match(), findall(), finditer(), sub() and split().\n",
    "    # The difference is that they use the pattern stored in the regex object, and do not take the regex\n",
    "    # as the first parameter. re.compile(regex).search(subject) is equivalent to re.search(regex, subject).\n",
    "    contractions_pattern = re.compile('({})'.format('|'.join(contraction_mapping.keys())),\n",
    "                                      flags=re.IGNORECASE | re.DOTALL)\n",
    "\n",
    "    def expand_match(contraction):\n",
    "        match = contraction.group(0)\n",
    "        first_char = match[0]\n",
    "        expanded_contraction = contraction_mapping.get(match)\\\n",
    "            if contraction_mapping.get(match)\\\n",
    "            else contraction_mapping.get(match.lower())\n",
    "        expanded_contraction = first_char+expanded_contraction[1:]\n",
    "        expanded_contraction = expanded_contraction[0:]\n",
    "        return expanded_contraction\n",
    "\n",
    "    expanded_text = contractions_pattern.sub(expand_match, text)\n",
    "    expanded_text = re.sub(\"'\", \"\", expanded_text)\n",
    "\n",
    "    return expanded_text\n",
    "\n",
    "def remove_accented_chars(text):\n",
    "    \"\"\"Remove non-ASCII characters from list of tokenized words\"\"\"\n",
    "    text = unicodedata.normalize('NFKD', text).encode(\n",
    "        'ascii', 'ignore').decode('utf-8', 'ignore')\n",
    "    return text\n",
    "\n",
    "def text_cleaning(scrapped_raw_text):\n",
    "    \n",
    "    text_scrub_word_removal = scrub_words(scrapped_raw_text)\n",
    "    text_expand_contarction_removal = expand_contractions(text_scrub_word_removal)\n",
    "    cleaned_text = remove_accented_chars(text_expand_contarction_removal)\n",
    "    \n",
    "    return cleaned_text\n",
    "  \n",
    "  "
   ]
  },
  {
   "cell_type": "markdown",
   "metadata": {
    "colab_type": "text",
    "id": "FuK9KxTFkagr"
   },
   "source": [
    "## ***NLP PIPE LINE BUILDING (TOKENIZATION,CONVERING TO LOWER CASE,LEMMATIZATION)***"
   ]
  },
  {
   "cell_type": "code",
   "execution_count": 0,
   "metadata": {
    "colab": {},
    "colab_type": "code",
    "id": "6INmDBkFjcr8"
   },
   "outputs": [],
   "source": [
    "def text_processing(text):\n",
    "  ##STOP WORDS REMOVAL\n",
    "  \n",
    "  ##tokens = [token for token in word_tokenize(text) if not token in stop_words]\n",
    "  \n",
    "  ##REMOVING ONE/TWO LETTER WORDS\n",
    "  \n",
    "  \n",
    "  tokens = [token for token in word_tokenize(text) if len(token)>2]\n",
    "  \n",
    "  ##CONVERTING TO LOWER CASE\n",
    "  \n",
    "  tokens = [token.lower() for token in tokens]\n",
    "  \n",
    "  ##LEMMATIZING WORDS\n",
    "  \n",
    "  tokens = [wordnet_lemmatizer.lemmatize(token) for token in tokens]\n",
    "  \n",
    "  ##Returning in a string format\n",
    "  \n",
    "  text = ' '.join(tokens)\n",
    "  \n",
    "  return text\n",
    "  \n",
    "  "
   ]
  },
  {
   "cell_type": "markdown",
   "metadata": {
    "colab_type": "text",
    "id": "t00O3LgZk83V"
   },
   "source": [
    "## ***APPLY TEXT CLEANING AND TEXT PROCESSING ON RAW DATA***"
   ]
  },
  {
   "cell_type": "code",
   "execution_count": 0,
   "metadata": {
    "colab": {},
    "colab_type": "code",
    "id": "4wzp-CFik7cz"
   },
   "outputs": [],
   "source": [
    "##TRAIN DATA\n",
    "\n",
    "data_scraped['scrapped_text'] = data['description'].apply(text_cleaning)\n",
    "data_scraped['scrapped_text'] = data['scrapped_text'].apply(text_processing)\n",
    "\n",
    "\n",
    "##TEST DATA\n",
    "\n",
    "test_scrapped['scrapped_text'] = test_scrapped['description'].apply(text_cleaning)\n",
    "test_scrapped['scrapped_text'] = test_scrapped['scrapped_text'].apply(text_processing)\n",
    "\n",
    "\n",
    "##MOUNTING THE GOOGLE DRIVE AND STORING THE CLEAN SCRAPPED FILES INTO IT\n",
    "\n",
    "from google.colab import drive\n",
    "drive.mount('/content/drive')\n",
    "\n",
    "data_scraped.to_csv('data_13_clean.csv')\n",
    "!cp data.csv drive/My\\ Drive/\n",
    "\n",
    "test_scraped.to_csv('test_13_clean.csv')\n",
    "!cp test.csv drive/My\\ Drive/\n"
   ]
  },
  {
   "cell_type": "markdown",
   "metadata": {
    "colab_type": "text",
    "id": "56z_rYgo84sb"
   },
   "source": [
    "## ***LOADING TEXT PROCESSED TRAIN DATA***"
   ]
  },
  {
   "cell_type": "code",
   "execution_count": 10,
   "metadata": {
    "colab": {
     "base_uri": "https://localhost:8080/",
     "height": 121
    },
    "colab_type": "code",
    "id": "yTTY5Yxe-XyM",
    "outputId": "38e5a7a9-4465-4284-9f5c-376adeda5fe0"
   },
   "outputs": [
    {
     "name": "stdout",
     "output_type": "stream",
     "text": [
      "Go to this URL in a browser: https://accounts.google.com/o/oauth2/auth?client_id=947318989803-6bn6qk8qdgf4n4g3pfee6491hc0brc4i.apps.googleusercontent.com&redirect_uri=urn%3Aietf%3Awg%3Aoauth%3A2.0%3Aoob&scope=email%20https%3A%2F%2Fwww.googleapis.com%2Fauth%2Fdocs.test%20https%3A%2F%2Fwww.googleapis.com%2Fauth%2Fdrive%20https%3A%2F%2Fwww.googleapis.com%2Fauth%2Fdrive.photos.readonly%20https%3A%2F%2Fwww.googleapis.com%2Fauth%2Fpeopleapi.readonly&response_type=code\n",
      "\n",
      "Enter your authorization code:\n",
      "··········\n",
      "Mounted at /content/drive\n"
     ]
    }
   ],
   "source": [
    "from google.colab import drive\n",
    "drive.mount('/content/drive')\n",
    "\n",
    "data_13_clean = pd.read_csv('drive/My Drive/data_13_clean.csv')\n"
   ]
  },
  {
   "cell_type": "markdown",
   "metadata": {
    "colab_type": "text",
    "id": "9qRBViwt9LjK"
   },
   "source": [
    "## ***LOADING TEXT PROCESSED TEST DATA***"
   ]
  },
  {
   "cell_type": "code",
   "execution_count": 0,
   "metadata": {
    "colab": {},
    "colab_type": "code",
    "id": "3Z_1Tbjt89JS"
   },
   "outputs": [],
   "source": [
    "from google.colab import drive\n",
    "drive.mount('/content/drive')\n",
    "\n",
    "test_13_clean = pd.read_csv('drive/My Drive/test_13_clean_updated.csv')\n",
    "\n"
   ]
  },
  {
   "cell_type": "markdown",
   "metadata": {
    "colab_type": "text",
    "id": "LlhPe_ln8pQf"
   },
   "source": [
    "## ***STOP WORDS***"
   ]
  },
  {
   "cell_type": "code",
   "execution_count": 13,
   "metadata": {
    "colab": {
     "base_uri": "https://localhost:8080/",
     "height": 91,
     "resources": {
      "http://localhost:8080/nbextensions/google.colab/files.js": {
       "data": "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",
       "headers": [
        [
         "content-type",
         "application/javascript"
        ]
       ],
       "ok": true,
       "status": 200,
       "status_text": ""
      }
     }
    },
    "colab_type": "code",
    "id": "30mlS4X5AIag",
    "outputId": "1bfc7524-7652-4bae-d448-7cf3b65fa1a5"
   },
   "outputs": [
    {
     "data": {
      "text/html": [
       "\n",
       "     <input type=\"file\" id=\"files-c3dc959e-7ff8-4584-833a-b5ca55ded167\" name=\"files[]\" multiple disabled />\n",
       "     <output id=\"result-c3dc959e-7ff8-4584-833a-b5ca55ded167\">\n",
       "      Upload widget is only available when the cell has been executed in the\n",
       "      current browser session. Please rerun this cell to enable.\n",
       "      </output>\n",
       "      <script src=\"/nbextensions/google.colab/files.js\"></script> "
      ],
      "text/plain": [
       "<IPython.core.display.HTML object>"
      ]
     },
     "metadata": {
      "tags": []
     },
     "output_type": "display_data"
    },
    {
     "name": "stdout",
     "output_type": "stream",
     "text": [
      "Saving Financial_stopwords.csv to Financial_stopwords.csv\n",
      "120    571\n"
     ]
    }
   ],
   "source": [
    "##STOP WORDS : THESE ARE TAKEN FROM UNIVERSITY OF NOTRE DAME PAPER ON MCDONALD FINANCE DICTIONERY \n",
    "\n",
    "_stopwords = ['ME', 'MY', 'MYSELF', 'WE', 'OUR', 'OURS', 'OURSELVES', 'YOU', 'YOUR', 'YOURS',\n",
    "                       'YOURSELF', 'YOURSELVES', 'HE', 'HIM', 'HIS', 'HIMSELF', 'SHE', 'HER', 'HERS', 'HERSELF',\n",
    "                       'IT', 'ITS', 'ITSELF', 'THEY', 'THEM', 'THEIR', 'THEIRS', 'THEMSELVES', 'WHAT', 'WHICH',\n",
    "                       'WHO', 'WHOM', 'THIS', 'THAT', 'THESE', 'THOSE', 'AM', 'IS', 'ARE', 'WAS', 'WERE', 'BE',\n",
    "                       'BEEN', 'BEING', 'HAVE', 'HAS', 'HAD', 'HAVING', 'DO', 'DOES', 'DID', 'DOING', 'AN',\n",
    "                       'THE', 'AND', 'BUT', 'IF', 'OR', 'BECAUSE', 'AS', 'UNTIL', 'WHILE', 'OF', 'AT', 'BY',\n",
    "                       'FOR', 'WITH', 'ABOUT', 'BETWEEN', 'INTO', 'THROUGH', 'DURING', 'BEFORE',\n",
    "                       'AFTER', 'ABOVE', 'BELOW', 'TO', 'FROM', 'UP', 'DOWN', 'IN', 'OUT', 'ON', 'OFF', 'OVER',\n",
    "                       'UNDER', 'AGAIN', 'FURTHER', 'THEN', 'ONCE', 'HERE', 'THERE', 'WHEN', 'WHERE', 'WHY',\n",
    "                       'HOW', 'ALL', 'ANY', 'BOTH', 'EACH', 'FEW', 'MORE', 'MOST', 'OTHER', 'SOME', 'SUCH',\n",
    "                       'NO', 'NOR', 'NOT', 'ONLY', 'OWN', 'SAME', 'SO', 'THAN', 'TOO', 'VERY', 'CAN',\n",
    "                       'JUST', 'SHOULD', 'NOW']\n",
    "\n",
    "from google.colab import files\n",
    "uploaded = files.upload()\n",
    "\n",
    "import io\n",
    "\n",
    "\n",
    "stop_words_1 = pd.read_csv(io.BytesIO(uploaded['Financial_stopwords.csv']))\n",
    "\n",
    "a = stop_words_1['Stop_Words'].tolist()\n",
    "\n",
    "print(len(_stopwords),'  ',len(a))\n",
    "\n",
    "s = ' '.join(_stopwords)\n",
    "_stopwords = s.lower().split()\n",
    "_stopwords.extend(a)\n",
    "\n"
   ]
  },
  {
   "cell_type": "markdown",
   "metadata": {
    "colab_type": "text",
    "id": "yBUAbVX3tOzL"
   },
   "source": [
    "## ***LOADING TIM LOUGHRAN MCDONALD DICTIONERY WHICH IS VOCABULARY OUR CORPUS***"
   ]
  },
  {
   "cell_type": "code",
   "execution_count": 16,
   "metadata": {
    "colab": {
     "base_uri": "https://localhost:8080/",
     "height": 74,
     "resources": {
      "http://localhost:8080/nbextensions/google.colab/files.js": {
       "data": "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",
       "headers": [
        [
         "content-type",
         "application/javascript"
        ]
       ],
       "ok": true,
       "status": 200,
       "status_text": ""
      }
     }
    },
    "colab_type": "code",
    "id": "P-zeCLxDFCV7",
    "outputId": "e4b84235-996c-4b31-d3bf-80d23dd63177"
   },
   "outputs": [
    {
     "data": {
      "text/html": [
       "\n",
       "     <input type=\"file\" id=\"files-bfb4244d-72c6-406b-8891-eaed20c49471\" name=\"files[]\" multiple disabled />\n",
       "     <output id=\"result-bfb4244d-72c6-406b-8891-eaed20c49471\">\n",
       "      Upload widget is only available when the cell has been executed in the\n",
       "      current browser session. Please rerun this cell to enable.\n",
       "      </output>\n",
       "      <script src=\"/nbextensions/google.colab/files.js\"></script> "
      ],
      "text/plain": [
       "<IPython.core.display.HTML object>"
      ]
     },
     "metadata": {
      "tags": []
     },
     "output_type": "display_data"
    },
    {
     "name": "stdout",
     "output_type": "stream",
     "text": [
      "Saving LA_MCD.csv to LA_MCD.csv\n"
     ]
    }
   ],
   "source": [
    "from google.colab import files\n",
    "uploaded = files.upload()\n",
    "\n",
    "LA_MCD = pd.read_csv(io.BytesIO(uploaded['LA_MCD.csv']))\n",
    "\n"
   ]
  },
  {
   "cell_type": "code",
   "execution_count": 0,
   "metadata": {
    "colab": {},
    "colab_type": "code",
    "id": "l_VfZDJ6Uctv"
   },
   "outputs": [],
   "source": [
    "def convertToInt(cell):\n",
    "    try:\n",
    "        return int(cell)\n",
    "    except:\n",
    "        return None\n"
   ]
  },
  {
   "cell_type": "code",
   "execution_count": 0,
   "metadata": {
    "colab": {},
    "colab_type": "code",
    "id": "9l3OTE2suPd8"
   },
   "outputs": [],
   "source": [
    "def NO_STOP(word):\n",
    "  \n",
    "    if word.lower() in _stopwords:\n",
    "      return None\n",
    "    else:\n",
    "      return word.lower()"
   ]
  },
  {
   "cell_type": "code",
   "execution_count": 0,
   "metadata": {
    "colab": {},
    "colab_type": "code",
    "id": "Lv3XW87toTdh"
   },
   "outputs": [],
   "source": [
    "LA_MCD['Sequence Number'] = LA_MCD['Sequence Number'].apply(convertToInt)"
   ]
  },
  {
   "cell_type": "code",
   "execution_count": 0,
   "metadata": {
    "colab": {},
    "colab_type": "code",
    "id": "PqE8c_LCobm0"
   },
   "outputs": [],
   "source": [
    "LA_MCD.dropna(inplace=True)"
   ]
  },
  {
   "cell_type": "code",
   "execution_count": 0,
   "metadata": {
    "colab": {},
    "colab_type": "code",
    "id": "T9WsUEG7TSos"
   },
   "outputs": [],
   "source": [
    "LA_MCD['Sequence Number'] = LA_MCD['Sequence Number'].astype('int64')"
   ]
  },
  {
   "cell_type": "code",
   "execution_count": 0,
   "metadata": {
    "colab": {},
    "colab_type": "code",
    "id": "VLX8ZvW0ug8T"
   },
   "outputs": [],
   "source": [
    "LA_MCD['Word'] = LA_MCD['Word'].apply(NO_STOP)"
   ]
  },
  {
   "cell_type": "code",
   "execution_count": 0,
   "metadata": {
    "colab": {},
    "colab_type": "code",
    "id": "SKyYiHo2vP_8"
   },
   "outputs": [],
   "source": [
    "LA_MCD.dropna(inplace=True)"
   ]
  },
  {
   "cell_type": "code",
   "execution_count": 0,
   "metadata": {
    "colab": {},
    "colab_type": "code",
    "id": "ev53cj9DV7oK"
   },
   "outputs": [],
   "source": [
    "LA_MCD.reset_index(inplace=True)"
   ]
  },
  {
   "cell_type": "code",
   "execution_count": 25,
   "metadata": {
    "colab": {
     "base_uri": "https://localhost:8080/",
     "height": 34
    },
    "colab_type": "code",
    "id": "El2-BMD_vGkf",
    "outputId": "c17fac89-3ebe-4524-988e-e916d1f1535e"
   },
   "outputs": [
    {
     "data": {
      "text/plain": [
       "RangeIndex(start=0, stop=84747, step=1)"
      ]
     },
     "execution_count": 25,
     "metadata": {
      "tags": []
     },
     "output_type": "execute_result"
    }
   ],
   "source": [
    "LA_MCD.index"
   ]
  },
  {
   "cell_type": "code",
   "execution_count": 0,
   "metadata": {
    "colab": {},
    "colab_type": "code",
    "id": "NY_PKNsEqSzy"
   },
   "outputs": [],
   "source": [
    "LA_MCD['NEW'] = LA_MCD.index"
   ]
  },
  {
   "cell_type": "markdown",
   "metadata": {
    "colab_type": "text",
    "id": "Bi3PWa-O4jJx"
   },
   "source": [
    "## **VOCABULARY BUILDING FROM LOUGHREN AND MCDONALD DICTIONERY**"
   ]
  },
  {
   "cell_type": "code",
   "execution_count": 27,
   "metadata": {
    "colab": {
     "base_uri": "https://localhost:8080/",
     "height": 50
    },
    "colab_type": "code",
    "id": "jNNjye8YWoq_",
    "outputId": "52186261-f06b-4598-a12c-58030a0faa6f"
   },
   "outputs": [
    {
     "name": "stdout",
     "output_type": "stream",
     "text": [
      "CPU times: user 8.36 s, sys: 38.4 ms, total: 8.4 s\n",
      "Wall time: 8.4 s\n"
     ]
    }
   ],
   "source": [
    "##BUILDING DICTIONERY OF VOCABULARY OF MCDONALDS WORDS\n",
    "##HERE KEY IS WORD AND VALUE IS SEQUENCE NUMBER OF WORD \n",
    "\n",
    "%%time\n",
    "\n",
    "v={}\n",
    "for i,j in LA_MCD.iterrows():\n",
    "    \n",
    "    v.update({j['Word'].lower():j['NEW']})"
   ]
  },
  {
   "cell_type": "markdown",
   "metadata": {
    "colab_type": "text",
    "id": "szZ93R0q4a5Z"
   },
   "source": [
    "## ***TRAIN,VALIDATION SPLITS***"
   ]
  },
  {
   "cell_type": "code",
   "execution_count": 0,
   "metadata": {
    "colab": {},
    "colab_type": "code",
    "id": "-KoRrJO508QU"
   },
   "outputs": [],
   "source": [
    "from sklearn.model_selection import train_test_split \n",
    "X_train, X_test, y_train, y_test = train_test_split(data_13_clean['scrapped_text'],data_13_clean['long_term_outlook'], test_size=0.25, random_state=1234)"
   ]
  },
  {
   "cell_type": "markdown",
   "metadata": {
    "colab_type": "text",
    "id": "AF8-HLZa4PSv"
   },
   "source": [
    "# ***BUILDING TFIDF MATRICES FOR TRAIN, VALIDATION AND TEST***"
   ]
  },
  {
   "cell_type": "markdown",
   "metadata": {
    "colab_type": "text",
    "id": "maQNGFqf40GH"
   },
   "source": [
    "## ***HERE TFIDG IS BUILT ON THE CORPUS FOR THE WORDS TAKEN FROM VOCABULARY OF MCD DICTIONERY(STOPWORDS REMOVED FROM VOCABBULARY)***"
   ]
  },
  {
   "cell_type": "code",
   "execution_count": 29,
   "metadata": {
    "colab": {
     "base_uri": "https://localhost:8080/",
     "height": 50
    },
    "colab_type": "code",
    "id": "wMe2jvtZT-cy",
    "outputId": "37f2ea6d-356f-4389-b11a-cb691a07b937"
   },
   "outputs": [
    {
     "name": "stdout",
     "output_type": "stream",
     "text": [
      "CPU times: user 205 µs, sys: 0 ns, total: 205 µs\n",
      "Wall time: 208 µs\n"
     ]
    }
   ],
   "source": [
    "%%time\n",
    "\n",
    "from sklearn.feature_extraction.text import TfidfVectorizer\n",
    "\n",
    "# define vectorizer parameters\n",
    "tfidf_vectorizer = TfidfVectorizer(max_df=0.8,\n",
    "                                   min_df=0.2,\n",
    "                                   use_idf=True, ngram_range=(1, 4),stop_words = _stopwords,vocabulary = v)\n"
   ]
  },
  {
   "cell_type": "code",
   "execution_count": 30,
   "metadata": {
    "colab": {
     "base_uri": "https://localhost:8080/",
     "height": 50
    },
    "colab_type": "code",
    "id": "BszNBOjFQniB",
    "outputId": "e8c00aff-9d9b-4799-a774-f6a07bda943e"
   },
   "outputs": [
    {
     "name": "stdout",
     "output_type": "stream",
     "text": [
      "CPU times: user 2min 9s, sys: 7.52 s, total: 2min 17s\n",
      "Wall time: 2min 17s\n"
     ]
    }
   ],
   "source": [
    "\n",
    "%time tfidf_matrix_train = tfidf_vectorizer.fit_transform(X_train)"
   ]
  },
  {
   "cell_type": "markdown",
   "metadata": {
    "colab_type": "text",
    "id": "TcBwy8zz5UB-"
   },
   "source": [
    "## ***top_tfidf_feats FUNCTION RETURN TOP N TFIDF VALUES IN ROW AND RETURN THEM WITH THEIR CORRESPONDING FEATURE NAMES***"
   ]
  },
  {
   "cell_type": "code",
   "execution_count": 0,
   "metadata": {
    "colab": {},
    "colab_type": "code",
    "id": "kOGELQPm-PR-"
   },
   "outputs": [],
   "source": [
    "def top_tfidf_feats(row, features, top_n=25):\n",
    "    ''' Get top n tfidf values in row and return them with their corresponding feature names.'''\n",
    "    topn_ids = np.argsort(row)[::-1][:top_n]\n",
    "    top_feats = [(features[i], row[i]) for i in topn_ids]\n",
    "    df = pd.DataFrame(top_feats)\n",
    "    df.columns = ['feature', 'tfidf']\n",
    "    return df"
   ]
  },
  {
   "cell_type": "code",
   "execution_count": 0,
   "metadata": {
    "colab": {},
    "colab_type": "code",
    "id": "pqUTPnUXOVvm"
   },
   "outputs": [],
   "source": [
    "def top_feats_in_doc(Xtr, features, row_id, top_n=25):\n",
    "                                                  \n",
    "    row = np.squeeze(Xtr[row_id].toarray())\n",
    "    return top_tfidf_feats(row, features, top_n)"
   ]
  },
  {
   "cell_type": "code",
   "execution_count": 33,
   "metadata": {
    "colab": {
     "base_uri": "https://localhost:8080/",
     "height": 195
    },
    "colab_type": "code",
    "id": "GBi4P3vi-gF5",
    "outputId": "3b9c5d84-9523-4186-ed99-8aafd0e7466a"
   },
   "outputs": [
    {
     "data": {
      "text/html": [
       "<div>\n",
       "<style scoped>\n",
       "    .dataframe tbody tr th:only-of-type {\n",
       "        vertical-align: middle;\n",
       "    }\n",
       "\n",
       "    .dataframe tbody tr th {\n",
       "        vertical-align: top;\n",
       "    }\n",
       "\n",
       "    .dataframe thead th {\n",
       "        text-align: right;\n",
       "    }\n",
       "</style>\n",
       "<table border=\"1\" class=\"dataframe\">\n",
       "  <thead>\n",
       "    <tr style=\"text-align: right;\">\n",
       "      <th></th>\n",
       "      <th>feature</th>\n",
       "      <th>tfidf</th>\n",
       "    </tr>\n",
       "  </thead>\n",
       "  <tbody>\n",
       "    <tr>\n",
       "      <th>0</th>\n",
       "      <td>million</td>\n",
       "      <td>0.262485</td>\n",
       "    </tr>\n",
       "    <tr>\n",
       "      <th>1</th>\n",
       "      <td>girl</td>\n",
       "      <td>0.252091</td>\n",
       "    </tr>\n",
       "    <tr>\n",
       "      <th>2</th>\n",
       "      <td>product</td>\n",
       "      <td>0.223856</td>\n",
       "    </tr>\n",
       "    <tr>\n",
       "      <th>3</th>\n",
       "      <td>toy</td>\n",
       "      <td>0.220674</td>\n",
       "    </tr>\n",
       "    <tr>\n",
       "      <th>4</th>\n",
       "      <td>fisher</td>\n",
       "      <td>0.210615</td>\n",
       "    </tr>\n",
       "  </tbody>\n",
       "</table>\n",
       "</div>"
      ],
      "text/plain": [
       "   feature     tfidf\n",
       "0  million  0.262485\n",
       "1     girl  0.252091\n",
       "2  product  0.223856\n",
       "3      toy  0.220674\n",
       "4   fisher  0.210615"
      ]
     },
     "execution_count": 33,
     "metadata": {
      "tags": []
     },
     "output_type": "execute_result"
    }
   ],
   "source": [
    "top_feats_in_doc(tfidf_matrix_train,tfidf_vectorizer.get_feature_names(),10,5)"
   ]
  },
  {
   "cell_type": "code",
   "execution_count": 34,
   "metadata": {
    "colab": {
     "base_uri": "https://localhost:8080/",
     "height": 50
    },
    "colab_type": "code",
    "id": "pjiMK81UUG1_",
    "outputId": "807152fe-5180-46f5-cf3d-e49fdb3d530d"
   },
   "outputs": [
    {
     "name": "stdout",
     "output_type": "stream",
     "text": [
      "CPU times: user 1min 36s, sys: 3.66 s, total: 1min 39s\n",
      "Wall time: 1min 39s\n"
     ]
    }
   ],
   "source": [
    "%%time\n",
    "\n",
    "tfidf_matrix_val = tfidf_vectorizer.transform(X_test)\n",
    "\n",
    "tfidf_matrix_test = tfidf_vectorizer.transform(test_13_clean['scrapped_text'])"
   ]
  },
  {
   "cell_type": "code",
   "execution_count": 35,
   "metadata": {
    "colab": {
     "base_uri": "https://localhost:8080/",
     "height": 34
    },
    "colab_type": "code",
    "id": "dSS9Iy4JdgJs",
    "outputId": "4490b66f-158a-492e-885f-4512f72a0b47"
   },
   "outputs": [
    {
     "name": "stdout",
     "output_type": "stream",
     "text": [
      "TFIDF TRAIN : (1926, 84747),TFIDF VAL : (642, 84747),TFIDF TEST : (856, 84747)\n"
     ]
    }
   ],
   "source": [
    "print('TFIDF TRAIN : {0},TFIDF VAL : {1},TFIDF TEST : {2}'.format(tfidf_matrix_train.shape,tfidf_matrix_val.shape,tfidf_matrix_test.shape))"
   ]
  },
  {
   "cell_type": "markdown",
   "metadata": {
    "colab_type": "text",
    "id": "bHspWYWj9piD"
   },
   "source": [
    "## ***USING SMOTE FOR OVER SAMPLING DATA AS WE HAVE CLASS IMBALANCE IN THE DATA PROVIDED***"
   ]
  },
  {
   "cell_type": "code",
   "execution_count": 0,
   "metadata": {
    "colab": {},
    "colab_type": "code",
    "id": "t-8OAvIvTvYi"
   },
   "outputs": [],
   "source": [
    "from imblearn.over_sampling import SMOTE\n",
    "smt = SMOTE()\n",
    "tfidf_matrix_train, y_train = smt.fit_sample(tfidf_matrix_train, y_train)"
   ]
  },
  {
   "cell_type": "code",
   "execution_count": 37,
   "metadata": {
    "colab": {
     "base_uri": "https://localhost:8080/",
     "height": 34
    },
    "colab_type": "code",
    "id": "6QdL06f6ermR",
    "outputId": "e565a774-50d9-44b2-fbb1-c794f9124dc3"
   },
   "outputs": [
    {
     "data": {
      "text/plain": [
       "(2742,)"
      ]
     },
     "execution_count": 37,
     "metadata": {
      "tags": []
     },
     "output_type": "execute_result"
    }
   ],
   "source": [
    "y_train.shape"
   ]
  },
  {
   "cell_type": "code",
   "execution_count": 38,
   "metadata": {
    "colab": {
     "base_uri": "https://localhost:8080/",
     "height": 34
    },
    "colab_type": "code",
    "id": "vvmZlXtegbyJ",
    "outputId": "3e6472db-656d-4504-be14-0a38d2d76122"
   },
   "outputs": [
    {
     "data": {
      "text/plain": [
       "(2742, 84747)"
      ]
     },
     "execution_count": 38,
     "metadata": {
      "tags": []
     },
     "output_type": "execute_result"
    }
   ],
   "source": [
    "tfidf_matrix_train.shape"
   ]
  },
  {
   "cell_type": "code",
   "execution_count": 39,
   "metadata": {
    "colab": {
     "base_uri": "https://localhost:8080/",
     "height": 84
    },
    "colab_type": "code",
    "id": "dem-1IOKKf3O",
    "outputId": "daa7102e-1058-4f74-e7ee-c87ed685d3b5"
   },
   "outputs": [
    {
     "name": "stdout",
     "output_type": "stream",
     "text": [
      "balance class\n",
      " 1    1371\n",
      "0    1371\n",
      "dtype: int64\n"
     ]
    }
   ],
   "source": [
    "print(\"balance class\\n {}\".format(pd.Series(y_train).value_counts()))"
   ]
  },
  {
   "cell_type": "markdown",
   "metadata": {
    "colab_type": "text",
    "id": "ClmZEzUHQcZ7"
   },
   "source": [
    "# **MODEL BUILDING**"
   ]
  },
  {
   "cell_type": "markdown",
   "metadata": {
    "colab_type": "text",
    "id": "XWe_Qg3M-GVM"
   },
   "source": [
    "## ***LOGISTIC REGRESSION FOR MULTIPLE C VALUES***"
   ]
  },
  {
   "cell_type": "code",
   "execution_count": 40,
   "metadata": {
    "colab": {
     "base_uri": "https://localhost:8080/",
     "height": 487
    },
    "colab_type": "code",
    "id": "Jel7TjkfKkK_",
    "outputId": "ec65b58c-d431-413b-db36-a022c1f86152"
   },
   "outputs": [
    {
     "name": "stdout",
     "output_type": "stream",
     "text": [
      "f1_score for C=0.2: 0.512584241617439\n",
      "0.6386138613861385    0.38655462184873945\n",
      "f1_score for C=0.5: 0.5042471042471042\n",
      "0.657142857142857    0.3513513513513513\n",
      "f1_score for C=1: 0.49999455367354717\n",
      "0.6651053864168618    0.3348837209302325\n",
      "f1_score for C=1.2: 0.5117173664137857\n",
      "0.6782810685249709    0.34515366430260047\n",
      "f1_score for C=1.5: 0.5175844668714349\n",
      "0.6813953488372093    0.3537735849056604\n",
      "f1_score for C=1.8: 0.5128929745659274\n",
      "0.679814385150812    0.3459715639810427\n",
      "f1_score for C=2: 0.5199524966736675\n",
      "0.6844547563805103    0.35545023696682465\n",
      "f1_score for C=2.3: 0.518730096194885\n",
      "0.6806526806526807    0.3568075117370892\n",
      "f1_score for C=2.6: 0.521105748135147\n",
      "0.6837209302325581    0.3584905660377358\n",
      "f1_score for C=2.9: 0.5234349106348011\n",
      "0.6845168800931315    0.3623529411764706\n",
      "f1_score for C=3: 0.524560104279675\n",
      "0.6837806301050176    0.3653395784543325\n",
      "f1_score for C=4: 0.5376771007215088\n",
      "0.6982658959537573    0.37708830548926014\n",
      "f1_score for C=4.5: 0.5400828126426195\n",
      "0.7012687427912342    0.3788968824940048\n",
      "CPU times: user 3min 11s, sys: 15min 17s, total: 18min 29s\n",
      "Wall time: 28.9 s\n"
     ]
    }
   ],
   "source": [
    "%%time\n",
    "\n",
    "for c in [0.2, 0.5, 1,1.2,1.5,1.8,2,2.3,2.6,2.9,3,4,4.5]:\n",
    "    \n",
    "    lr = LogisticRegression(C=c)\n",
    "    lr.fit(tfidf_matrix_train,y_train)\n",
    "    print (\"f1_score for C=%s: %s\" \n",
    "           % (c, (f1_score(y_test, lr.predict(tfidf_matrix_val),pos_label=1)+f1_score(y_test, lr.predict(tfidf_matrix_val),pos_label=0))/2))\n",
    "    \n",
    "    print(f1_score(y_test, lr.predict(tfidf_matrix_val),pos_label=1),'  ',f1_score(y_test, lr.predict(tfidf_matrix_val),pos_label=0))"
   ]
  },
  {
   "cell_type": "code",
   "execution_count": 41,
   "metadata": {
    "colab": {
     "base_uri": "https://localhost:8080/",
     "height": 319
    },
    "colab_type": "code",
    "id": "HzuPP3ot0IpP",
    "outputId": "4654830f-be24-4fd8-8210-f46393ce5d0a"
   },
   "outputs": [
    {
     "name": "stdout",
     "output_type": "stream",
     "text": [
      "f1_score for C=4.5: 0.5400828126426195\n",
      "0.7012687427912342    0.3788968824940048\n",
      "f1_score for C=4.8: 0.5448422545196738\n",
      "0.7050691244239632    0.3846153846153846\n",
      "f1_score for C=5: 0.5448422545196738\n",
      "0.7050691244239632    0.3846153846153846\n",
      "f1_score for C=5.2: 0.5448422545196738\n",
      "0.7050691244239632    0.3846153846153846\n",
      "f1_score for C=5.4: 0.5412863346331088\n",
      "0.7027649769585254    0.37980769230769235\n",
      "f1_score for C=5.6: 0.5424903295575859\n",
      "0.7042577675489068    0.380722891566265\n",
      "f1_score for C=5.8: 0.5436948192570381\n",
      "0.7057471264367815    0.3816425120772947\n",
      "f1_score for C=6: 0.5461053709806716\n",
      "0.7087155963302753    0.38349514563106796\n",
      "CPU times: user 2min 43s, sys: 12min 55s, total: 15min 38s\n",
      "Wall time: 24.1 s\n"
     ]
    }
   ],
   "source": [
    "%%time\n",
    "\n",
    "for c in [4.5,4.8,5,5.2,5.4,5.6,5.8,6]:\n",
    "    \n",
    "    lr = LogisticRegression(C=c)\n",
    "    lr.fit(tfidf_matrix_train,y_train)\n",
    "    print (\"f1_score for C=%s: %s\" \n",
    "           % (c, (f1_score(y_test, lr.predict(tfidf_matrix_val),pos_label=1)+f1_score(y_test, lr.predict(tfidf_matrix_val),pos_label=0))/2))\n",
    "    \n",
    "    print(f1_score(y_test, lr.predict(tfidf_matrix_val),pos_label=1),'  ',f1_score(y_test, lr.predict(tfidf_matrix_val),pos_label=0))"
   ]
  },
  {
   "cell_type": "code",
   "execution_count": 42,
   "metadata": {
    "colab": {
     "base_uri": "https://localhost:8080/",
     "height": 353
    },
    "colab_type": "code",
    "id": "Yuk23cjtRGrp",
    "outputId": "3ed68093-391e-41e7-c605-640efb0c1c72"
   },
   "outputs": [
    {
     "name": "stdout",
     "output_type": "stream",
     "text": [
      "f1_score for C=6.2: 0.5449349779538984\n",
      "0.7093821510297482    0.38048780487804873\n",
      "f1_score for C=6.4: 0.5449349779538984\n",
      "0.7093821510297482    0.38048780487804873\n",
      "f1_score for C=6.8: 0.5437329119321744\n",
      "0.7079037800687284    0.3795620437956204\n",
      "f1_score for C=7: 0.5425313975238265\n",
      "0.7064220183486238    0.3786407766990292\n",
      "f1_score for C=7.2: 0.5389574240669813\n",
      "0.7041284403669724    0.3737864077669903\n",
      "f1_score for C=7.4: 0.5401299350324837\n",
      "0.7034482758620689    0.37681159420289856\n",
      "f1_score for C=7.6: 0.5389574240669813\n",
      "0.7041284403669724    0.3737864077669903\n",
      "f1_score for C=7.8: 0.5389574240669813\n",
      "0.7041284403669724    0.3737864077669903\n",
      "f1_score for C=8: 0.537760999435677\n",
      "0.7026406429391505    0.37288135593220345\n",
      "CPU times: user 3min 7s, sys: 14min 56s, total: 18min 3s\n",
      "Wall time: 27.8 s\n"
     ]
    }
   ],
   "source": [
    "%%time\n",
    "\n",
    "for c in [6.2,6.4,6.8,7,7.2,7.4,7.6,7.8,8]:\n",
    "    \n",
    "    lr = LogisticRegression(C=c)\n",
    "    lr.fit(tfidf_matrix_train,y_train)\n",
    "    print (\"f1_score for C=%s: %s\" \n",
    "           % (c, (f1_score(y_test, lr.predict(tfidf_matrix_val),pos_label=1)+f1_score(y_test, lr.predict(tfidf_matrix_val),pos_label=0))/2))\n",
    "    \n",
    "    print(f1_score(y_test, lr.predict(tfidf_matrix_val),pos_label=1),'  ',f1_score(y_test, lr.predict(tfidf_matrix_val),pos_label=0))"
   ]
  },
  {
   "cell_type": "code",
   "execution_count": 43,
   "metadata": {
    "colab": {
     "base_uri": "https://localhost:8080/",
     "height": 655
    },
    "colab_type": "code",
    "id": "tlHx8eBpx5mR",
    "outputId": "a37f5699-283e-4b51-bda7-ec918223d9ac"
   },
   "outputs": [
    {
     "name": "stdout",
     "output_type": "stream",
     "text": [
      "f1_score for C=8.2: 0.537760999435677\n",
      "0.7026406429391505    0.37288135593220345\n",
      "f1_score for C=8.5: 0.5353834506101363\n",
      "0.7018348623853211    0.3689320388349515\n",
      "f1_score for C=8.8: 0.5365757811389537\n",
      "0.7033218785796105    0.36982968369829683\n",
      "f1_score for C=9: 0.5317862382116662\n",
      "0.7017142857142858    0.36185819070904646\n",
      "f1_score for C=9.3: 0.5317862382116662\n",
      "0.7017142857142858    0.36185819070904646\n",
      "f1_score for C=9.6: 0.5353411806950414\n",
      "0.7061503416856493    0.36453201970443355\n",
      "f1_score for C=9.9: 0.5341021602160216\n",
      "0.7068181818181819    0.3613861386138614\n",
      "f1_score for C=10.2: 0.5352844585022096\n",
      "0.7082860385925086    0.36228287841191065\n",
      "f1_score for C=10.5: 0.5376507767952712\n",
      "0.7112117780294451    0.3640897755610973\n",
      "f1_score for C=11: 0.5364673232477071\n",
      "0.7097505668934241    0.36318407960198995\n",
      "f1_score for C=11.2: 0.5376507767952712\n",
      "0.7112117780294451    0.3640897755610973\n",
      "f1_score for C=11.4: 0.5340245083779792\n",
      "0.7089467723669309    0.35910224438902744\n",
      "f1_score for C=11.6: 0.5340245083779792\n",
      "0.7089467723669309    0.35910224438902744\n",
      "f1_score for C=11.8: 0.5340245083779792\n",
      "0.7089467723669309    0.35910224438902744\n",
      "f1_score for C=12: 0.538900921860169\n",
      "0.7105561861520999    0.36724565756823824\n",
      "f1_score for C=12.3: 0.5377137713771377\n",
      "0.7090909090909091    0.36633663366336633\n",
      "f1_score for C=12.6: 0.5364673232477071\n",
      "0.7097505668934241    0.36318407960198995\n",
      "f1_score for C=12.9: 0.5364673232477071\n",
      "0.7097505668934241    0.36318407960198995\n",
      "CPU times: user 6min 57s, sys: 33min 18s, total: 40min 15s\n",
      "Wall time: 1min 1s\n"
     ]
    }
   ],
   "source": [
    "%%time\n",
    "\n",
    "for c in [8.2,8.5,8.8,9,9.3,9.6,9.9,10.2,10.5,11,11.2,11.4,11.6,11.8,12,12.3,12.6,12.9]:\n",
    "    \n",
    "    lr = LogisticRegression(C=c)\n",
    "    lr.fit(tfidf_matrix_train,y_train)\n",
    "    print (\"f1_score for C=%s: %s\" \n",
    "           % (c, (f1_score(y_test, lr.predict(tfidf_matrix_val),pos_label=1)+f1_score(y_test, lr.predict(tfidf_matrix_val),pos_label=0))/2))\n",
    "    \n",
    "    print(f1_score(y_test, lr.predict(tfidf_matrix_val),pos_label=1),'  ',f1_score(y_test, lr.predict(tfidf_matrix_val),pos_label=0))"
   ]
  },
  {
   "cell_type": "code",
   "execution_count": 44,
   "metadata": {
    "colab": {
     "base_uri": "https://localhost:8080/",
     "height": 286
    },
    "colab_type": "code",
    "id": "5WITDyRnzMRi",
    "outputId": "5697abba-d118-40ef-8185-25f34076ddc6"
   },
   "outputs": [
    {
     "name": "stdout",
     "output_type": "stream",
     "text": [
      "f1_score for C=16.4: 0.5327471220423942\n",
      "0.7096045197740114    0.355889724310777\n",
      "f1_score for C=16.6: 0.5327471220423942\n",
      "0.7096045197740114    0.355889724310777\n",
      "f1_score for C=16.8: 0.5315723981900453\n",
      "0.7081447963800906    0.3550000000000001\n",
      "f1_score for C=17: 0.5315723981900453\n",
      "0.7081447963800906    0.3550000000000001\n",
      "f1_score for C=17.2: 0.5303982399606872\n",
      "0.7066817667044168    0.3541147132169577\n",
      "f1_score for C=17.4: 0.5303982399606872\n",
      "0.7066817667044168    0.3541147132169577\n",
      "f1_score for C=17.6: 0.5328459742105797\n",
      "0.7074829931972788    0.3582089552238806\n",
      "CPU times: user 3min 3s, sys: 14min 36s, total: 17min 40s\n",
      "Wall time: 27.1 s\n"
     ]
    }
   ],
   "source": [
    "%%time\n",
    "\n",
    "for c in [16.4,16.6,16.8,17,17.2,17.4,17.6]:\n",
    "    \n",
    "    lr = LogisticRegression(C=c)\n",
    "    lr.fit(tfidf_matrix_train,y_train)\n",
    "    \n",
    "    print (\"f1_score for C=%s: %s\" \n",
    "           % (c, (f1_score(y_test, lr.predict(tfidf_matrix_val),pos_label=1)+f1_score(y_test, lr.predict(tfidf_matrix_val),pos_label=0))/2))\n",
    "    \n",
    "    print(f1_score(y_test, lr.predict(tfidf_matrix_val),pos_label=1),'  ',f1_score(y_test, lr.predict(tfidf_matrix_val),pos_label=0))"
   ]
  },
  {
   "cell_type": "code",
   "execution_count": 45,
   "metadata": {
    "colab": {
     "base_uri": "https://localhost:8080/",
     "height": 218
    },
    "colab_type": "code",
    "id": "QY4hsyyF0iPd",
    "outputId": "ce5a398f-33e1-4306-9b08-efd37fa90f7f"
   },
   "outputs": [
    {
     "name": "stdout",
     "output_type": "stream",
     "text": [
      "f1_score for C=17.6: 0.5328459742105797\n",
      "0.7074829931972788    0.3582089552238806\n",
      "f1_score for C=17.8: 0.5328459742105797\n",
      "0.7074829931972788    0.3582089552238806\n",
      "f1_score for C=18: 0.5316679951442502\n",
      "0.7060158910329172    0.35732009925558317\n",
      "f1_score for C=18.2: 0.5316679951442502\n",
      "0.7060158910329172    0.35732009925558317\n",
      "f1_score for C=18.6: 0.5316679951442502\n",
      "0.7060158910329172    0.35732009925558317\n",
      "CPU times: user 2min 16s, sys: 10min 55s, total: 13min 11s\n",
      "Wall time: 20.2 s\n"
     ]
    }
   ],
   "source": [
    "%%time\n",
    "\n",
    "for c in [17.6,17.8,18,18.2,18.6]:\n",
    "    \n",
    "    lr = LogisticRegression(C=c)\n",
    "    lr.fit(tfidf_matrix_train,y_train)\n",
    "    \n",
    "    print (\"f1_score for C=%s: %s\" \n",
    "           % (c, (f1_score(y_test, lr.predict(tfidf_matrix_val),pos_label=1)+f1_score(y_test, lr.predict(tfidf_matrix_val),pos_label=0))/2))\n",
    "    \n",
    "    print(f1_score(y_test, lr.predict(tfidf_matrix_val),pos_label=1),'  ',f1_score(y_test, lr.predict(tfidf_matrix_val),pos_label=0))"
   ]
  },
  {
   "cell_type": "code",
   "execution_count": 156,
   "metadata": {
    "colab": {
     "base_uri": "https://localhost:8080/",
     "height": 50
    },
    "colab_type": "code",
    "id": "6sqI_xHTy_6V",
    "outputId": "8f2dc38c-1518-433f-c0df-bb5c4d9a4f0f"
   },
   "outputs": [
    {
     "name": "stdout",
     "output_type": "stream",
     "text": [
      "f1_score for C=11.8: 0.5508804258804259\n",
      "0.722972972972973    0.3787878787878788\n"
     ]
    }
   ],
   "source": [
    "lr = LogisticRegression(C=16.8)\n",
    "lr.fit(tfidf_matrix_train,y_train)\n",
    "print (\"f1_score for C=%s: %s\" \n",
    "           % (11.8, (f1_score(y_test, lr.predict(tfidf_matrix_val),pos_label=1)+f1_score(y_test, lr.predict(tfidf_matrix_val),pos_label=0))/2))\n",
    "    \n",
    "print(f1_score(y_test, lr.predict(tfidf_matrix_val),pos_label=1),'  ',f1_score(y_test, lr.predict(tfidf_matrix_val),pos_label=0))"
   ]
  },
  {
   "cell_type": "code",
   "execution_count": 56,
   "metadata": {
    "colab": {
     "base_uri": "https://localhost:8080/",
     "height": 34
    },
    "colab_type": "code",
    "id": "qlhvsehqxnQt",
    "outputId": "7c7db23c-0e3a-4909-c25b-de2c40987a35"
   },
   "outputs": [
    {
     "data": {
      "text/plain": [
       "(642, 84747)"
      ]
     },
     "execution_count": 56,
     "metadata": {
      "tags": []
     },
     "output_type": "execute_result"
    }
   ],
   "source": [
    "tfidf_matrix_val.shape"
   ]
  },
  {
   "cell_type": "code",
   "execution_count": 158,
   "metadata": {
    "colab": {
     "base_uri": "https://localhost:8080/",
     "height": 34
    },
    "colab_type": "code",
    "id": "d0-LA_w3mglX",
    "outputId": "0ab53336-936e-4e45-a9ec-67901ec8340c"
   },
   "outputs": [
    {
     "data": {
      "text/plain": [
       "(856, 1)"
      ]
     },
     "execution_count": 158,
     "metadata": {
      "tags": []
     },
     "output_type": "execute_result"
    }
   ],
   "source": [
    "lr = LogisticRegression(C=16.8)\n",
    "lr.fit(tfidf_matrix_train,y_train)\n",
    "\n",
    "y_TEST_LR_96 = lr.predict(tfidf_matrix_test)\n",
    "y_TEST_LR_96\n",
    "y_TEST_LR_96_file = pd.DataFrame(y_TEST_LR_96,columns=['long_term_outlook'])\n",
    "y_TEST_LR_96_file.set_index(test_13_clean['Unnamed: 0'])\n",
    "y_TEST_LR_96_file.shape"
   ]
  },
  {
   "cell_type": "code",
   "execution_count": 0,
   "metadata": {
    "colab": {},
    "colab_type": "code",
    "id": "J73Nxq2PAJpW"
   },
   "outputs": [],
   "source": [
    "from google.colab import files\n",
    "\n",
    "\n",
    "y_TEST_LR_96_file.to_csv('y_TEST_LR_96_file.csv')\n",
    "files.download('y_TEST_LR_96_file.csv')"
   ]
  },
  {
   "cell_type": "markdown",
   "metadata": {
    "colab_type": "text",
    "id": "BQ2DfGMyAGjt"
   },
   "source": [
    "# ***LINEAR SVM AND RBF KERNAL SVM***"
   ]
  },
  {
   "cell_type": "code",
   "execution_count": 46,
   "metadata": {
    "colab": {
     "base_uri": "https://localhost:8080/",
     "height": 50
    },
    "colab_type": "code",
    "id": "rgx3RSauFubS",
    "outputId": "13d09624-4977-43e0-8d8c-0a634d756e3b"
   },
   "outputs": [
    {
     "name": "stdout",
     "output_type": "stream",
     "text": [
      "f1_score for C=18.6: 0.4768904016071136\n",
      "0.5249643366619117    0.4288164665523156\n"
     ]
    }
   ],
   "source": [
    "from sklearn.svm import LinearSVC,SVC\n",
    "\n",
    "svc1 = SVC(class_weight='balanced',kernel='rbf')\n",
    "svc1.fit(tfidf_matrix_train,y_train)\n",
    "print (\"f1_score for C=%s: %s\" \n",
    "           % (c, (f1_score(y_test, svc1.predict(tfidf_matrix_val),pos_label=1)+f1_score(y_test, svc1.predict(tfidf_matrix_val),pos_label=0))/2))\n",
    "    \n",
    "print(f1_score(y_test, svc1.predict(tfidf_matrix_val),pos_label=1),'  ',f1_score(y_test, svc1.predict(tfidf_matrix_val),pos_label=0))"
   ]
  },
  {
   "cell_type": "code",
   "execution_count": 140,
   "metadata": {
    "colab": {
     "base_uri": "https://localhost:8080/",
     "height": 487
    },
    "colab_type": "code",
    "id": "coeqTFuzAaN-",
    "outputId": "726af614-f5ec-4e2e-8a16-33964e81d578"
   },
   "outputs": [
    {
     "name": "stdout",
     "output_type": "stream",
     "text": [
      "f1_score for C=0.02: 0.546037218257563\n",
      "0.7192784667418264    0.37279596977329976\n",
      "f1_score for C=0.05: 0.546037218257563\n",
      "0.7192784667418264    0.37279596977329976\n",
      "f1_score for C=0.08: 0.546037218257563\n",
      "0.7192784667418264    0.37279596977329976\n",
      "f1_score for C=0.2: 0.546037218257563\n",
      "0.7192784667418264    0.37279596977329976\n",
      "f1_score for C=0.4: 0.546037218257563\n",
      "0.7192784667418264    0.37279596977329976\n",
      "f1_score for C=0.8: 0.546037218257563\n",
      "0.7192784667418264    0.37279596977329976\n",
      "f1_score for C=1: 0.546037218257563\n",
      "0.7192784667418264    0.37279596977329976\n",
      "f1_score for C=2: 0.546037218257563\n",
      "0.7192784667418264    0.37279596977329976\n",
      "f1_score for C=3: 0.546037218257563\n",
      "0.7192784667418264    0.37279596977329976\n",
      "f1_score for C=3.5: 0.546037218257563\n",
      "0.7192784667418264    0.37279596977329976\n",
      "f1_score for C=3.8: 0.546037218257563\n",
      "0.7192784667418264    0.37279596977329976\n",
      "f1_score for C=4: 0.546037218257563\n",
      "0.7192784667418264    0.37279596977329976\n",
      "f1_score for C=4.2: 0.546037218257563\n",
      "0.7192784667418264    0.37279596977329976\n",
      "f1_score for C=4.5: 0.546037218257563\n",
      "0.7192784667418264    0.37279596977329976\n"
     ]
    }
   ],
   "source": [
    "\n",
    "from sklearn.svm import LinearSVC,SVC\n",
    "\n",
    "for c in [0.02,0.05,0.08,0.2,0.4,0.8,1, 2, 3, 3.5,3.8,4,4.2,4.5]:\n",
    "    \n",
    "    svm = LinearSVC(C=c)\n",
    "    svm.fit(tfidf_matrix_train, y_train)\n",
    "    print (\"f1_score for C=%s: %s\" \n",
    "           % (c, (f1_score(y_test, lr.predict(tfidf_matrix_val),pos_label=1)+f1_score(y_test, lr.predict(tfidf_matrix_val),pos_label=0))/2))\n",
    "    \n",
    "    print(f1_score(y_test, lr.predict(tfidf_matrix_val),pos_label=1),'  ',f1_score(y_test, lr.predict(tfidf_matrix_val),pos_label=0))"
   ]
  },
  {
   "cell_type": "markdown",
   "metadata": {
    "colab_type": "text",
    "id": "Y_C-OKjfAY3B"
   },
   "source": [
    "# ***DECISION TREE***"
   ]
  },
  {
   "cell_type": "code",
   "execution_count": 143,
   "metadata": {
    "colab": {
     "base_uri": "https://localhost:8080/",
     "height": 50
    },
    "colab_type": "code",
    "id": "6UrrdHU-315T",
    "outputId": "d696cfc0-8081-4b4d-9fff-4e3dfb01010b"
   },
   "outputs": [
    {
     "name": "stdout",
     "output_type": "stream",
     "text": [
      "f1_score for C=4.5: 0.546037218257563\n",
      "0.7192784667418264    0.37279596977329976\n"
     ]
    }
   ],
   "source": [
    "from sklearn.neighbors import KNeighborsClassifier\n",
    "from sklearn.naive_bayes import GaussianNB\n",
    "from sklearn.tree import DecisionTreeClassifier\n",
    "from sklearn.ensemble import RandomForestClassifier\n",
    "from sklearn.model_selection import train_test_split, cross_val_score\n",
    "from sklearn.model_selection import KFold, learning_curve\n",
    "from sklearn.metrics import f1_score\n",
    "from sklearn import preprocessing\n",
    "import warnings\n",
    "\n",
    "from sklearn.model_selection import GridSearchCV,RandomizedSearchCV\n",
    "\n",
    "dt = DecisionTreeClassifier(splitter = 'random')\n",
    "\n",
    "dt.fit(tfidf_matrix_train, y_train)\n",
    "print (\"f1_score for C=%s: %s\" \n",
    "           % (c, (f1_score(y_test, lr.predict(tfidf_matrix_val),pos_label=1)+f1_score(y_test, lr.predict(tfidf_matrix_val),pos_label=0))/2))\n",
    "    \n",
    "print(f1_score(y_test, lr.predict(tfidf_matrix_val),pos_label=1),'  ',f1_score(y_test, lr.predict(tfidf_matrix_val),pos_label=0))"
   ]
  },
  {
   "cell_type": "markdown",
   "metadata": {
    "colab_type": "text",
    "id": "rzdmVJbxAiIt"
   },
   "source": [
    "# ***KNN***"
   ]
  },
  {
   "cell_type": "code",
   "execution_count": 146,
   "metadata": {
    "colab": {
     "base_uri": "https://localhost:8080/",
     "height": 353
    },
    "colab_type": "code",
    "id": "IiLhHFmh9wLp",
    "outputId": "1fc237cd-036a-455b-abd4-78c5c341cc4e"
   },
   "outputs": [
    {
     "name": "stdout",
     "output_type": "stream",
     "text": [
      "f1_score for C=4.5: 0.4912295227393695\n",
      "0.7067833698030633    0.2756756756756757\n",
      "f1_score for C=4.5: 0.4666333016365547\n",
      "0.559681697612732    0.37358490566037733\n",
      "f1_score for C=4.5: 0.4876867402802264\n",
      "0.6369119420989143    0.3384615384615385\n",
      "f1_score for C=4.5: 0.4701906992305118\n",
      "0.546938775510204    0.3934426229508196\n",
      "f1_score for C=4.5: 0.4898635579486643\n",
      "0.6265356265356266    0.35319148936170214\n",
      "f1_score for C=4.5: 0.46403315785338256\n",
      "0.5224719101123595    0.4055944055944056\n",
      "f1_score for C=4.5: 0.4879238342969202\n",
      "0.5964010282776349    0.37944664031620556\n",
      "f1_score for C=4.5: 0.459488516284858\n",
      "0.5175808720112518    0.4013961605584642\n",
      "f1_score for C=4.5: 0.46308243727598564\n",
      "0.5483870967741935    0.3777777777777777\n",
      "f1_score for C=4.5: 0.4314271255060729\n",
      "0.4615384615384615    0.40131578947368424\n"
     ]
    }
   ],
   "source": [
    "##KNN\n",
    "\n",
    "from sklearn.neighbors import KNeighborsRegressor,KNeighborsClassifier\n",
    "\n",
    "for k in [1,2,3,4,5,6,7,8,9,10]:\n",
    "\n",
    "    KNN = KNeighborsClassifier(n_neighbors = k)\n",
    "    KNN.fit(tfidf_matrix_train,y_train)\n",
    "\n",
    "\n",
    "\n",
    "    print (\"f1_score for C=%s: %s\" \n",
    "               % (c, (f1_score(y_test, KNN.predict(tfidf_matrix_val),pos_label=1)+f1_score(y_test, KNN.predict(tfidf_matrix_val),pos_label=0))/2))\n",
    "\n",
    "    print(f1_score(y_test, KNN.predict(tfidf_matrix_val),pos_label=1),'  ',f1_score(y_test, KNN.predict(tfidf_matrix_val),pos_label=0))\n"
   ]
  },
  {
   "cell_type": "markdown",
   "metadata": {
    "colab_type": "text",
    "id": "HsIIJ95cAnrF"
   },
   "source": [
    "# ***RANDOM FOREST***"
   ]
  },
  {
   "cell_type": "code",
   "execution_count": 193,
   "metadata": {
    "colab": {
     "base_uri": "https://localhost:8080/",
     "height": 50
    },
    "colab_type": "code",
    "id": "l4PMBMUjW9O6",
    "outputId": "177711f7-4afc-4d22-c213-246a81fae17c"
   },
   "outputs": [
    {
     "name": "stdout",
     "output_type": "stream",
     "text": [
      "f1_score for C=4.5: 0.5295590662035381\n",
      "0.7171492204899778    0.34196891191709844\n"
     ]
    }
   ],
   "source": [
    "from sklearn.ensemble import RandomForestClassifier\n",
    "\n",
    "rfc = RandomForestClassifier(class_weight= {0 : 0.63,1: 0.37})\n",
    "\n",
    "rfc.fit(tfidf_matrix_train,y_train)\n",
    "\n",
    "print (\"f1_score for C=%s: %s\" \n",
    "               % (c, (f1_score(y_test, rfc.predict(tfidf_matrix_val),pos_label=1)+f1_score(y_test, rfc.predict(tfidf_matrix_val),pos_label=0))/2))\n",
    "\n",
    "print(f1_score(y_test, rfc.predict(tfidf_matrix_val),pos_label=1),'  ',f1_score(y_test, rfc.predict(tfidf_matrix_val),pos_label=0))\n"
   ]
  },
  {
   "cell_type": "markdown",
   "metadata": {
    "colab_type": "text",
    "id": "NBcgpBY2A3oa"
   },
   "source": [
    "# ***GRADIENT BOOSTING***"
   ]
  },
  {
   "cell_type": "code",
   "execution_count": 194,
   "metadata": {
    "colab": {
     "base_uri": "https://localhost:8080/",
     "height": 50
    },
    "colab_type": "code",
    "id": "kl7v5rE0dT5L",
    "outputId": "c4039b2c-d667-4337-9800-f6d0bb0bd835"
   },
   "outputs": [
    {
     "name": "stdout",
     "output_type": "stream",
     "text": [
      "f1_score for C=4.5: 0.5432683093215521\n",
      "0.7730569948186529    0.31347962382445144\n"
     ]
    }
   ],
   "source": [
    "from sklearn.ensemble import GradientBoostingClassifier\n",
    "\n",
    "from sklearn.model_selection import GridSearchCV\n",
    "\n",
    "# Model in use\n",
    "GBM = GradientBoostingClassifier() \n",
    " \n",
    "# Use a grid over parameters of interest\n",
    "\n",
    "\n",
    "GBM.fit(tfidf_matrix_train,y_train)\n",
    "\n",
    "print (\"f1_score for C=%s: %s\" \n",
    "               % (c, (f1_score(y_test, GBM.predict(tfidf_matrix_val),pos_label=1)+f1_score(y_test, GBM.predict(tfidf_matrix_val),pos_label=0))/2))\n",
    "\n",
    "print(f1_score(y_test, GBM.predict(tfidf_matrix_val),pos_label=1),'  ',f1_score(y_test, GBM.predict(tfidf_matrix_val),pos_label=0))\n"
   ]
  },
  {
   "cell_type": "markdown",
   "metadata": {
    "colab_type": "text",
    "id": "Xx5pazAyA_c7"
   },
   "source": [
    "# ***NAIVE BAYES***"
   ]
  },
  {
   "cell_type": "code",
   "execution_count": 195,
   "metadata": {
    "colab": {
     "base_uri": "https://localhost:8080/",
     "height": 50
    },
    "colab_type": "code",
    "id": "WN5hqHkleJ2U",
    "outputId": "a20df6a0-f167-47ed-d666-73a21fb31769"
   },
   "outputs": [
    {
     "name": "stdout",
     "output_type": "stream",
     "text": [
      "f1_score for C=4.5: 0.507296047098402\n",
      "0.6439024390243903    0.3706896551724138\n"
     ]
    }
   ],
   "source": [
    "from sklearn.naive_bayes import BernoulliNB\n",
    "\n",
    "#Create a Gaussian Classifier\n",
    "model = BernoulliNB(0.01)\n",
    "\n",
    "# Train the model using the training sets\n",
    "model.fit(tfidf_matrix_train,y_train)\n",
    "\n",
    "#Predict Output\n",
    "print (\"f1_score for C=%s: %s\" \n",
    "               % (c, (f1_score(y_test, model.predict(tfidf_matrix_val),pos_label=1)+f1_score(y_test, model.predict(tfidf_matrix_val),pos_label=0))/2))\n",
    "\n",
    "print(f1_score(y_test, model.predict(tfidf_matrix_val),pos_label=1),'  ',f1_score(y_test, model.predict(tfidf_matrix_val),pos_label=0))\n"
   ]
  },
  {
   "cell_type": "markdown",
   "metadata": {
    "colab_type": "text",
    "id": "CVgFcXmSBF2-"
   },
   "source": [
    "# ***ADABOOST***"
   ]
  },
  {
   "cell_type": "code",
   "execution_count": 196,
   "metadata": {
    "colab": {
     "base_uri": "https://localhost:8080/",
     "height": 50
    },
    "colab_type": "code",
    "id": "9JHSYNdqea9h",
    "outputId": "4c38689b-e6cd-4de8-a3fa-cdebbdf43957"
   },
   "outputs": [
    {
     "name": "stdout",
     "output_type": "stream",
     "text": [
      "f1_score for C=4.5: 0.503106211540216\n",
      "0.7113062568605928    0.29490616621983917\n"
     ]
    }
   ],
   "source": [
    "from sklearn.ensemble import AdaBoostClassifier\n",
    "\n",
    "ada = AdaBoostClassifier(DecisionTreeClassifier(max_depth=4),n_estimators=100,learning_rate=0.1)\n",
    "\n",
    "ada.fit(tfidf_matrix_train,y_train)\n",
    "\n",
    "\n",
    "print (\"f1_score for C=%s: %s\" \n",
    "               % (c, (f1_score(y_test, ada.predict(tfidf_matrix_val),pos_label=1)+f1_score(y_test, ada.predict(tfidf_matrix_val),pos_label=0))/2))\n",
    "\n",
    "print(f1_score(y_test, ada.predict(tfidf_matrix_val),pos_label=1),'  ',f1_score(y_test, ada.predict(tfidf_matrix_val),pos_label=0))\n",
    "\n"
   ]
  },
  {
   "cell_type": "markdown",
   "metadata": {
    "colab_type": "text",
    "id": "ejCfUDhLBvii"
   },
   "source": [
    "# ***XGBOOST***"
   ]
  },
  {
   "cell_type": "code",
   "execution_count": 78,
   "metadata": {
    "colab": {
     "base_uri": "https://localhost:8080/",
     "height": 50
    },
    "colab_type": "code",
    "id": "4LscGmTuWP68",
    "outputId": "e54fe96d-2a24-4b91-dcb2-dd5d161e5b0f"
   },
   "outputs": [
    {
     "name": "stdout",
     "output_type": "stream",
     "text": [
      "f1_score is 0.5475157849791923\n",
      "0.7342888643880927    0.36074270557029176\n"
     ]
    }
   ],
   "source": [
    "%%time\n",
    "\n",
    "import xgboost as xgb\n",
    "from sklearn.model_selection import GridSearchCV,RandomizedSearchCV\n",
    "\n",
    "#tfidf_matrix_train_xgb = tfidf_matrix_train.as_matrix()\n",
    "#y_train_xgb  = y_train.as_matrix()\n",
    "#tfidf_matrix_val_xgb = tfidf_matrix_val.as_matrix()\n",
    "#y_test_xgb  = y_test.as_matrix()\n",
    "\n",
    "#tfidf_matrix_test_xgb = tfidf_matrix_test.as_matrix()\n",
    "\n",
    "\n",
    "# parameters = {'objective':['reg:linear'],\n",
    "#               'learning_rate': [.03, 0.05, .07 , 0.1 ,0.15,0.2,0.22,0.24,0.28], #so called `eta` value\n",
    "#               'max_depth': [4,5,6,7],\n",
    "#               'min_child_weight': [3,4,5,6],\n",
    "#               'silent': [1],\n",
    "#               'subsample': [0.75],\n",
    "#               'colsample_bytree': [0.75],\n",
    "#               'n_estimators': [50,100,150]}\n",
    "\n",
    "# xgb_random = RandomizedSearchCV(xgb.XGBRFClassifier(),param_distributions=parameters,cv=10)\n",
    "# xgb_random.fit(tfidf_matrix_train,y_train)\n",
    "\n",
    "xgb_params = {'learning_rate': 0.05, \n",
    "              'max_depth': 4,\n",
    "              'subsample': 0.9,        \n",
    "              'colsample_bytree': 0.9,\n",
    "              'objective': 'binary:logistic',\n",
    "              'silent': 1, \n",
    "              'n_estimators':100, \n",
    "              'gamma':1,         \n",
    "              'min_child_weight':4}   \n",
    "xgb1 = xgb.XGBClassifier(**xgb_params, seed = 10,scale_pos_weight=0.65)\n",
    "\n",
    "xgb1.fit(tfidf_matrix_train,y_train)\n",
    "\n",
    "\n",
    "print (\"f1_score is %s\" \n",
    "               % ((f1_score(y_test, xgb1.predict(tfidf_matrix_val),pos_label=1)+f1_score(y_test, xgb1.predict(tfidf_matrix_val),pos_label=0))/2))\n",
    "\n",
    "print(f1_score(y_test, xgb1.predict(tfidf_matrix_val),pos_label=1),'  ',f1_score(y_test, xgb1.predict(tfidf_matrix_val),pos_label=0))\n"
   ]
  },
  {
   "cell_type": "markdown",
   "metadata": {
    "colab_type": "text",
    "id": "jBjgxCieJijK"
   },
   "source": [
    "# ***STACKING CLASSIFIER (LOGISTIC REGRESSION,LINEAR SVM,DT,GRADIENT BOOSTING AND XGBOOST COMBINED)***"
   ]
  },
  {
   "cell_type": "code",
   "execution_count": 208,
   "metadata": {
    "colab": {
     "base_uri": "https://localhost:8080/",
     "height": 84
    },
    "colab_type": "code",
    "id": "nsKOsBO4sNDm",
    "outputId": "07d46cd0-a84d-46cc-9793-d20ecfec34a5"
   },
   "outputs": [
    {
     "name": "stdout",
     "output_type": "stream",
     "text": [
      "f1_score for C=4.5: 0.5525704184276882\n",
      "0.747014115092291    0.3581267217630854\n",
      "CPU times: user 5min 42s, sys: 3min 14s, total: 8min 57s\n",
      "Wall time: 5min 7s\n"
     ]
    }
   ],
   "source": [
    "%%time\n",
    "\n",
    "sclf = StackingClassifier(classifiers=[clf1, clf2, clf3,GBM,xgb1], \n",
    "                          meta_classifier=lr)\n",
    "sclf.fit(tfidf_matrix_train,y_train)\n",
    "\n",
    "print (\"f1_score for C=%s: %s\" \n",
    "               % (c, (f1_score(y_test, sclf.predict(tfidf_matrix_val),pos_label=1)+f1_score(y_test, sclf.predict(tfidf_matrix_val),pos_label=0))/2))\n",
    "\n",
    "print(f1_score(y_test, sclf.predict(tfidf_matrix_val),pos_label=1),'  ',f1_score(y_test, sclf.predict(tfidf_matrix_val),pos_label=0))\n"
   ]
  },
  {
   "cell_type": "markdown",
   "metadata": {
    "colab_type": "text",
    "id": "_csXCAwyRCY8"
   },
   "source": [
    "## **PREDICTION OUTPUT TO CSV FILE**"
   ]
  },
  {
   "cell_type": "code",
   "execution_count": 0,
   "metadata": {
    "colab": {},
    "colab_type": "code",
    "id": "oNfU3ueTigrF"
   },
   "outputs": [],
   "source": [
    "y_TEST_LR_sclf_2 = sclf.predict(tfidf_matrix_test)\n",
    "y_TEST_LR_sclf_2\n",
    "y_TEST_LR_sclf_file_2 = pd.DataFrame(y_TEST_LR_sclf_2,columns=['long_term_outlook'])\n",
    "y_TEST_LR_sclf_file_2.set_index(test_13_clean['Unnamed: 0'])\n",
    "y_TEST_LR_sclf_file_2.shape\n",
    "\n",
    "\n",
    "from google.colab import files\n",
    "\n",
    "\n",
    "y_TEST_LR_sclf_file_2.to_csv('y_TEST_LR_sclf_file_2.csv')\n",
    "files.download('y_TEST_LR_sclf_file_2.csv')"
   ]
  },
  {
   "cell_type": "markdown",
   "metadata": {
    "colab_type": "text",
    "id": "VA4eSX-wRar2"
   },
   "source": [
    "## **CHECKING FOR MODEL STABILITY**"
   ]
  },
  {
   "cell_type": "code",
   "execution_count": 50,
   "metadata": {
    "colab": {
     "base_uri": "https://localhost:8080/",
     "height": 134
    },
    "colab_type": "code",
    "id": "Mau9ixuOBh9_",
    "outputId": "e549cd05-b33c-423f-afef-a484df6df919"
   },
   "outputs": [
    {
     "name": "stdout",
     "output_type": "stream",
     "text": [
      "5-fold cross validation:\n",
      "\n",
      "F1 SCORE: 0.67 (+/- 0.02) [Logistic]\n",
      "F1 SCORE: 0.66 (+/- 0.05) [Linear SVC]\n",
      "F1 SCORE: 0.68 (+/- 0.02) [Decision Tree]\n",
      "F1 SCORE: 0.70 (+/- 0.02) [XGBOOST]\n",
      "F1 SCORE: 0.78 (+/- 0.07) [Gradient BoostingStackingClassifier]\n"
     ]
    }
   ],
   "source": [
    "# %%time\n",
    "\n",
    "# from sklearn.ensemble import GradientBoostingClassifier\n",
    "\n",
    "# GBM = GradientBoostingClassifier() \n",
    " \n",
    "# GBM.fit(tfidf_matrix_train,y_train)\n",
    "\n",
    "\n",
    "# xgb_params = {'learning_rate': 0.05, \n",
    "#               'max_depth': 4,\n",
    "#               'subsample': 0.9,        \n",
    "#               'colsample_bytree': 0.9,\n",
    "#               'objective': 'binary:logistic',\n",
    "#               'silent': 1, \n",
    "#               'n_estimators':100, \n",
    "#               'gamma':1,         \n",
    "#               'min_child_weight':4}   \n",
    "# xgb1 = xgb.XGBClassifier(**xgb_params, seed = 10,scale_pos_weight=0.65)\n",
    "\n",
    "# xgb1.fit(tfidf_matrix_train,y_train)\n",
    "\n",
    "# clf1 = LogisticRegression(C=5)\n",
    "# clf1.fit(tfidf_matrix_train,y_train)\n",
    "\n",
    "# clf2 = DecisionTreeClassifier(splitter = 'random')\n",
    "# clf2.fit(tfidf_matrix_train,y_train)\n",
    "\n",
    "# clf3 = LinearSVC(C=1)\n",
    "# clf3.fit(tfidf_matrix_train,y_train)\n",
    "\n",
    "# lr = LogisticRegression()\n",
    "# lr.fit(tfidf_matrix_train,y_train)\n",
    "\n",
    "\n",
    "# from mlxtend.classifier import StackingClassifier\n",
    "# from sklearn import model_selection\n",
    "\n",
    "\n",
    "sclf = StackingClassifier(classifiers=[clf1, clf2, clf3,xgb1,GBM], \n",
    "                          meta_classifier=lr)\n",
    "\n",
    "\n",
    "\n",
    "print('5-fold cross validation:\\n')\n",
    "\n",
    "for clf, label in zip([clf1, clf2, clf3, xgb1, GBM, sclf], \n",
    "                      ['Logistic', \n",
    "                       'Linear SVC', \n",
    "                       'Decision Tree','XGBOOST','Gradient Boosting'\n",
    "                       'StackingClassifier']):\n",
    "\n",
    "    scores = model_selection.cross_val_score(clf, tfidf_matrix_train, y_train, \n",
    "                                              cv=5, scoring='f1')\n",
    "    print(\"F1 SCORE: %0.2f (+/- %0.2f) [%s]\" \n",
    "          % (scores.mean(), scores.std(), label))"
   ]
  },
  {
   "cell_type": "markdown",
   "metadata": {
    "colab_type": "text",
    "id": "GhI37TBljCVM"
   },
   "source": [
    "### ***For all the models cross validation accuracy deviation is not much based on that we can conclude they dont have high variance problem***"
   ]
  },
  {
   "cell_type": "code",
   "execution_count": 0,
   "metadata": {
    "colab": {},
    "colab_type": "code",
    "id": "rBzMrlUSMfjt"
   },
   "outputs": [],
   "source": [
    "from sklearn.model_selection import train_test_split \n",
    "X_train_1, X_test_1, y_train_1, y_test_1 = train_test_split(data_13_clean['scrapped_text'],data_13_clean['long_term_outlook'], test_size=0.25, random_state=1234)"
   ]
  },
  {
   "cell_type": "markdown",
   "metadata": {
    "colab_type": "text",
    "id": "ZMVocXayFqny"
   },
   "source": [
    "# NGRAMS"
   ]
  },
  {
   "cell_type": "markdown",
   "metadata": {
    "colab_type": "text",
    "id": "h5XJy6ZNKWUf"
   },
   "source": [
    "## SVM LINEAR"
   ]
  },
  {
   "cell_type": "code",
   "execution_count": 84,
   "metadata": {
    "colab": {
     "base_uri": "https://localhost:8080/",
     "height": 50
    },
    "colab_type": "code",
    "id": "Uq8uUwQyLEn7",
    "outputId": "eb3876a2-0e8b-4d6c-fae3-c677a6ee3d03"
   },
   "outputs": [
    {
     "name": "stdout",
     "output_type": "stream",
     "text": [
      "CPU times: user 5min 8s, sys: 8.81 s, total: 5min 17s\n",
      "Wall time: 5min 17s\n"
     ]
    }
   ],
   "source": [
    "%%time\n",
    "\n",
    "from sklearn.feature_extraction.text import CountVectorizer\n",
    "from sklearn.model_selection import train_test_split\n",
    "from sklearn.metrics import accuracy_score\n",
    "from sklearn.svm import LinearSVC\n",
    "\n",
    "\n",
    "ngram_vectorizer = CountVectorizer(binary=True, ngram_range=(1,4), stop_words=_stopwords,max_df = 0.8 , min_df = 0.2, vocabulary = v)\n",
    "ngram_vectorizer.fit(X_train_1)\n",
    "X = ngram_vectorizer.transform(X_train_1)\n",
    "X_val_ngram = ngram_vectorizer.transform(X_test_1)\n",
    "\n",
    "\n"
   ]
  },
  {
   "cell_type": "code",
   "execution_count": 0,
   "metadata": {
    "colab": {},
    "colab_type": "code",
    "id": "DLH_HN7bcw9s"
   },
   "outputs": [],
   "source": [
    "test_X = ngram_vectorizer.transform(test_13_clean['scrapped_text'])"
   ]
  },
  {
   "cell_type": "code",
   "execution_count": 93,
   "metadata": {
    "colab": {
     "base_uri": "https://localhost:8080/",
     "height": 34
    },
    "colab_type": "code",
    "id": "1yDPEQgKSxXA",
    "outputId": "a422e9a3-6959-496b-a749-72cecdfa103f"
   },
   "outputs": [
    {
     "data": {
      "text/plain": [
       "(2742, 84747)"
      ]
     },
     "execution_count": 93,
     "metadata": {
      "tags": []
     },
     "output_type": "execute_result"
    }
   ],
   "source": [
    "X.shape"
   ]
  },
  {
   "cell_type": "code",
   "execution_count": 0,
   "metadata": {
    "colab": {},
    "colab_type": "code",
    "id": "xiNDImQ8LGBY"
   },
   "outputs": [],
   "source": [
    "from imblearn.over_sampling import SMOTE\n",
    "smt = SMOTE()\n",
    "X, y_train_1 = smt.fit_sample(X, y_train_1)"
   ]
  },
  {
   "cell_type": "code",
   "execution_count": 88,
   "metadata": {
    "colab": {
     "base_uri": "https://localhost:8080/",
     "height": 34
    },
    "colab_type": "code",
    "id": "dUwFB8-RTj0f",
    "outputId": "d3830def-c3a9-42e6-ea42-00eaaf409b8f"
   },
   "outputs": [
    {
     "data": {
      "text/plain": [
       "(2742,)"
      ]
     },
     "execution_count": 88,
     "metadata": {
      "tags": []
     },
     "output_type": "execute_result"
    }
   ],
   "source": [
    "y_train_1.shape"
   ]
  },
  {
   "cell_type": "code",
   "execution_count": 90,
   "metadata": {
    "colab": {
     "base_uri": "https://localhost:8080/",
     "height": 34
    },
    "colab_type": "code",
    "id": "LPwewkkVLf2E",
    "outputId": "2883026e-1ad5-4eed-85d1-96b8fdc2fda5"
   },
   "outputs": [
    {
     "data": {
      "text/plain": [
       "(2742, 84747)"
      ]
     },
     "execution_count": 90,
     "metadata": {
      "tags": []
     },
     "output_type": "execute_result"
    }
   ],
   "source": [
    "X.shape"
   ]
  },
  {
   "cell_type": "code",
   "execution_count": 91,
   "metadata": {
    "colab": {
     "base_uri": "https://localhost:8080/",
     "height": 252
    },
    "colab_type": "code",
    "id": "iE6d95k3La8e",
    "outputId": "bf555d2a-ceb8-4054-eb97-4a5fd9157ac3"
   },
   "outputs": [
    {
     "name": "stdout",
     "output_type": "stream",
     "text": [
      "f1_score for C=0.001: 0.5183448818123741\n",
      "0.7636738906088752    0.27301587301587305\n",
      "f1_score for C=0.005: 0.5203938161212766\n",
      "0.7631851085832471    0.277602523659306\n",
      "f1_score for C=0.01: 0.5159380765220181\n",
      "0.7549530761209593    0.27692307692307694\n",
      "f1_score for C=0.05: 0.5084413283385644\n",
      "0.7457983193277311    0.27108433734939763\n",
      "f1_score for C=0.1: 0.5071426557080144\n",
      "0.7412882787750792    0.2729970326409496\n",
      "f1_score for C=1.5: 0.4968835429196281\n",
      "0.7225806451612902    0.2711864406779661\n",
      "f1_score for C=2: 0.4958140663139223\n",
      "0.721205597416577    0.2704225352112676\n"
     ]
    }
   ],
   "source": [
    "for c in [0.001, 0.005, 0.01, 0.05, 0.1, 1.5, 2]:\n",
    "    \n",
    "    lr = LinearSVC(C=c)\n",
    "    lr.fit(X, y_train_1)\n",
    "    print (\"f1_score for C=%s: %s\" \n",
    "           % (c, (f1_score(y_test_1, lr.predict(X_val_ngram),pos_label=1)+f1_score(y_test_1, lr.predict(X_val_ngram),pos_label=0))/2))\n",
    "    \n",
    "    print(f1_score(y_test_1, lr.predict(X_val_ngram),pos_label=1),'  ',f1_score(y_test_1, lr.predict(X_val_ngram),pos_label=0))\n",
    "\n",
    "\n",
    "# for c in [1, 2, 3, 3.5,3.8,4,4.2,4.5]:\n",
    "    \n",
    "#     svm = LinearSVC(C=c)\n",
    "#     svm.fit(X, y_train_1)\n",
    "#     print (\"f1_score for C=%s: %s\" \n",
    "#            % (c, (f1_score(y_test_1, lr.predict(X_val_ngram),pos_label=1)+f1_score(y_test_1, lr.predict(X_val_ngram),pos_label=0))/2))\n",
    "    \n",
    "#     print(f1_score(y_test_1, lr.predict(X_val_ngram),pos_label=1),'  ',f1_score(y_test_1, lr.predict(X_val_ngram),pos_label=0))\n",
    "\n",
    "    "
   ]
  },
  {
   "cell_type": "markdown",
   "metadata": {
    "colab_type": "text",
    "id": "Hpn32AqHKiB7"
   },
   "source": [
    "## ***LOGISTIC REGRESSION***"
   ]
  },
  {
   "cell_type": "code",
   "execution_count": 92,
   "metadata": {
    "colab": {
     "base_uri": "https://localhost:8080/",
     "height": 655
    },
    "colab_type": "code",
    "id": "M_wVCea1yGFY",
    "outputId": "f20ff70a-1bd3-4767-da92-7c9b348cd2d1"
   },
   "outputs": [
    {
     "name": "stdout",
     "output_type": "stream",
     "text": [
      "f1_score for C=8.2: 0.5133227435006213\n",
      "0.7460484720758694    0.28059701492537314\n",
      "f1_score for C=8.5: 0.5173615589072551\n",
      "0.7481559536354057    0.2865671641791045\n",
      "f1_score for C=8.8: 0.5203059071729959\n",
      "0.748945147679325    0.29166666666666663\n",
      "f1_score for C=9: 0.5203059071729959\n",
      "0.748945147679325    0.29166666666666663\n",
      "f1_score for C=9.3: 0.52323595674612\n",
      "0.7497360084477297    0.29673590504451036\n",
      "f1_score for C=9.6: 0.5192126314865937\n",
      "0.7476240760295672    0.29080118694362017\n",
      "f1_score for C=9.9: 0.5221361822435168\n",
      "0.748414376321353    0.2958579881656805\n",
      "f1_score for C=10.2: 0.5250456524792808\n",
      "0.7492063492063492    0.3008849557522124\n",
      "f1_score for C=10.5: 0.5203059071729959\n",
      "0.748945147679325    0.29166666666666663\n",
      "f1_score for C=11: 0.5192126314865937\n",
      "0.7476240760295672    0.29080118694362017\n",
      "f1_score for C=11.2: 0.5221361822435168\n",
      "0.748414376321353    0.2958579881656805\n",
      "f1_score for C=11.4: 0.5221361822435168\n",
      "0.748414376321353    0.2958579881656805\n",
      "f1_score for C=11.6: 0.5192126314865937\n",
      "0.7476240760295672    0.29080118694362017\n",
      "f1_score for C=11.8: 0.5192126314865937\n",
      "0.7476240760295672    0.29080118694362017\n",
      "f1_score for C=12: 0.5192126314865937\n",
      "0.7476240760295672    0.29080118694362017\n",
      "f1_score for C=12.3: 0.5192126314865937\n",
      "0.7476240760295672    0.29080118694362017\n",
      "f1_score for C=12.6: 0.5162748643761302\n",
      "0.7468354430379747    0.28571428571428575\n",
      "f1_score for C=12.9: 0.5173615589072551\n",
      "0.7481559536354057    0.2865671641791045\n",
      "CPU times: user 20min 33s, sys: 1h 33min 19s, total: 1h 53min 53s\n",
      "Wall time: 2min 52s\n"
     ]
    }
   ],
   "source": [
    "%%time\n",
    "\n",
    "for c in [8.2,8.5,8.8,9,9.3,9.6,9.9,10.2,10.5,11,11.2,11.4,11.6,11.8,12,12.3,12.6,12.9]:\n",
    "    \n",
    "    lr = LogisticRegression(C=c)\n",
    "    lr.fit(X,y_train_1)\n",
    "    print (\"f1_score for C=%s: %s\" \n",
    "           % (c, (f1_score(y_test_1, lr.predict(X_val_ngram),pos_label=1)+f1_score(y_test_1, lr.predict(X_val_ngram),pos_label=0))/2))\n",
    "    \n",
    "    print(f1_score(y_test_1, lr.predict(X_val_ngram),pos_label=1),'  ',f1_score(y_test_1, lr.predict(X_val_ngram),pos_label=0))\n",
    "\n",
    "    "
   ]
  },
  {
   "cell_type": "markdown",
   "metadata": {
    "colab_type": "text",
    "id": "oC70toiHKwYW"
   },
   "source": [
    "## ***RANDOM FOREST***"
   ]
  },
  {
   "cell_type": "code",
   "execution_count": 54,
   "metadata": {
    "colab": {
     "base_uri": "https://localhost:8080/",
     "height": 84
    },
    "colab_type": "code",
    "id": "GloOceE_0CZD",
    "outputId": "39d27c8a-8a31-44ed-d076-af0b2e7556c1"
   },
   "outputs": [
    {
     "name": "stdout",
     "output_type": "stream",
     "text": [
      "f1_score for C=12.9: 0.5184494169555626\n",
      "0.7494736842105263    0.2874251497005988\n",
      "CPU times: user 1.78 s, sys: 5.42 ms, total: 1.78 s\n",
      "Wall time: 1.78 s\n"
     ]
    }
   ],
   "source": [
    "## Random Forest\n",
    "%%time\n",
    "\n",
    "\n",
    "from sklearn.ensemble import RandomForestClassifier\n",
    "\n",
    "rfc = RandomForestClassifier(class_weight= 'balanced')\n",
    "\n",
    "\n",
    "rfc.fit(X,y_train_1)\n",
    "\n",
    "print (\"f1_score for C=%s: %s\" \n",
    "           % (c, (f1_score(y_test_1, lr.predict(X_val_ngram),pos_label=1)+f1_score(y_test_1, lr.predict(X_val_ngram),pos_label=0))/2))\n",
    "    \n",
    "print(f1_score(y_test_1, lr.predict(X_val_ngram),pos_label=1),'  ',f1_score(y_test_1, lr.predict(X_val_ngram),pos_label=0))\n",
    "\n",
    "    "
   ]
  },
  {
   "cell_type": "code",
   "execution_count": 0,
   "metadata": {
    "colab": {},
    "colab_type": "code",
    "id": "qi0wWS9E34gl"
   },
   "outputs": [],
   "source": []
  }
 ],
 "metadata": {
  "accelerator": "TPU",
  "colab": {
   "collapsed_sections": [],
   "machine_shape": "hm",
   "name": "Untitled5.ipynb",
   "provenance": []
  },
  "kernelspec": {
   "display_name": "Python 3",
   "language": "python",
   "name": "python3"
  },
  "language_info": {
   "codemirror_mode": {
    "name": "ipython",
    "version": 3
   },
   "file_extension": ".py",
   "mimetype": "text/x-python",
   "name": "python",
   "nbconvert_exporter": "python",
   "pygments_lexer": "ipython3",
   "version": "3.8.3"
  }
 },
 "nbformat": 4,
 "nbformat_minor": 1
}
